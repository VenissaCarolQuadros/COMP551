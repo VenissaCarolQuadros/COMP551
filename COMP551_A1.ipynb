{
  "nbformat": 4,
  "nbformat_minor": 0,
  "metadata": {
    "colab": {
      "provenance": [],
      "authorship_tag": "ABX9TyNBh5QUL2pS0qQTZ63WYG/c",
      "include_colab_link": true
    },
    "kernelspec": {
      "name": "python3",
      "display_name": "Python 3"
    },
    "language_info": {
      "name": "python"
    }
  },
  "cells": [
    {
      "cell_type": "markdown",
      "metadata": {
        "id": "view-in-github",
        "colab_type": "text"
      },
      "source": [
        "<a href=\"https://colab.research.google.com/github/VenissaCarolQuadros/COMP551/blob/dev3/COMP551_A1.ipynb\" target=\"_parent\"><img src=\"https://colab.research.google.com/assets/colab-badge.svg\" alt=\"Open In Colab\"/></a>"
      ]
    },
    {
      "cell_type": "code",
      "source": [
        "import requests\n",
        "import pandas as pd\n",
        "import numpy as np\n",
        "import matplotlib.pyplot as plt\n",
        "import seaborn as sns"
      ],
      "metadata": {
        "id": "JQoT2qUqK0k0"
      },
      "execution_count": 4,
      "outputs": []
    },
    {
      "cell_type": "code",
      "source": [
        "def read_data(url, dest):\n",
        "  response = requests.get(url)\n",
        "  with open(dest, 'wb') as file:\n",
        "      file.write(response.content)\n",
        "  return"
      ],
      "metadata": {
        "id": "0s9G1-4lRQpN"
      },
      "execution_count": 5,
      "outputs": []
    },
    {
      "cell_type": "code",
      "source": [
        "dest1= 'LinearRegression.xlsx'\n",
        "read_data(\"https://raw.githubusercontent.com/VenissaCarolQuadros/COMP551/main/data/ENB2012_data.xlsx\", dest1)\n",
        "df1= pd.read_excel(dest1)\n",
        "df1.columns = ['relative_compactness', 'surface_area', 'wall_area', 'roof_area', 'overall_height', 'orientation', 'glazing_area', 'glazing_area_distribution', 'heating_load', 'cooling_load']\n",
        "\n",
        "dest2= 'LogisticRegression.csv'\n",
        "read_data('https://raw.githubusercontent.com/VenissaCarolQuadros/COMP551/main/data/Qualitative_Bankruptcy/Qualitative_Bankruptcy.data.txt', dest2)\n",
        "df2= pd.read_csv(dest2, header=None)\n"
      ],
      "metadata": {
        "id": "tZ2dKvEwRkDm"
      },
      "execution_count": 6,
      "outputs": []
    },
    {
      "cell_type": "code",
      "source": [
        "print(\"Verifying shape of df1:\", df1.shape, \"\\nVerifying shape of df2:\", df2.shape) ##Verifying dataset size\n",
        "print( \"Checking for nulls in df1:\", df1[df1.eq('?').any(1)])\n",
        "print(\"Checking for nulls in df1:\", df2[ df2.eq('?').any(1)]) #Checking for nulls\n",
        "##No nulls found. Dataset size seems right"
      ],
      "metadata": {
        "colab": {
          "base_uri": "https://localhost:8080/"
        },
        "id": "rOYCyYATSIGM",
        "outputId": "2a1ebc20-cd92-44e5-d22c-019dae1809f8"
      },
      "execution_count": 7,
      "outputs": [
        {
          "output_type": "stream",
          "name": "stdout",
          "text": [
            "Verifying shape of df1: (768, 10) \n",
            "Verifying shape of df2: (250, 7)\n",
            "Checking for nulls in df1: Empty DataFrame\n",
            "Columns: [relative_compactness, surface_area, wall_area, roof_area, overall_height, orientation, glazing_area, glazing_area_distribution, heating_load, cooling_load]\n",
            "Index: []\n",
            "Checking for nulls in df1: Empty DataFrame\n",
            "Columns: [0, 1, 2, 3, 4, 5, 6]\n",
            "Index: []\n"
          ]
        }
      ]
    },
    {
      "cell_type": "markdown",
      "source": [
        "##Cross validation"
      ],
      "metadata": {
        "id": "oYoTvT1fvw8d"
      }
    },
    {
      "cell_type": "code",
      "source": [
        "def cross_validate(n, n_folds=5):\n",
        "    #get the number of data samples in each split\n",
        "    n_val = n // n_folds\n",
        "    inds = np.random.permutation(n)\n",
        "    inds = []\n",
        "    for f in range(n_folds):\n",
        "        tr_inds = []\n",
        "        #get the validation indexes\n",
        "        val_inds = list(range(f * n_val, (f+1)*n_val))\n",
        "        #get the train indexes\n",
        "        if f > 0:\n",
        "            tr_inds = list(range(f*n_val))\n",
        "        if f < n_folds - 1:\n",
        "            tr_inds = tr_inds + list(range((f+1)*n_val, n))\n",
        "        #The yield statement suspends function’s execution and sends a value back to the caller\n",
        "        #but retains enough state information to enable function to resume where it is left off\n",
        "        yield tr_inds, val_inds"
      ],
      "metadata": {
        "id": "JpqRcUYlvvss"
      },
      "execution_count": 8,
      "outputs": []
    },
    {
      "cell_type": "markdown",
      "source": [
        "##Gradient Descent"
      ],
      "metadata": {
        "id": "iI6xzhkRvtOq"
      }
    },
    {
      "cell_type": "code",
      "source": [
        "\n",
        "class GradientDescent:\n",
        "    \n",
        "    def __init__(self, learning_rate=.0001, max_iters=1e4, epsilon=1e-8, record_history=False):\n",
        "        self.learning_rate = learning_rate\n",
        "        self.max_iters = max_iters\n",
        "        self.record_history = record_history\n",
        "        self.epsilon = epsilon\n",
        "        if record_history:\n",
        "            self.w_history = []                 #to store the weight history for visualization\n",
        "        self.cost_history=[]\n",
        "            \n",
        "    def run(self, gradient_fn, x, y, w):\n",
        "        grad = np.inf\n",
        "        t = 1\n",
        "        \n",
        "        while np.linalg.norm(grad) > self.epsilon and t < self.max_iters:\n",
        "            grad, cost = gradient_fn(x, y, w)               # compute the gradient with present weight\n",
        "            self.cost_history.append(cost)\n",
        "            w = w - self.learning_rate * grad         # weight update step\n",
        "            if self.record_history:\n",
        "                self.w_history.append(w)\n",
        "            t += 1\n",
        "        return w"
      ],
      "metadata": {
        "id": "bG4G6uTuFCaJ"
      },
      "execution_count": 9,
      "outputs": []
    },
    {
      "cell_type": "code",
      "source": [
        "class StochasticGradientDescent:\n",
        "    \n",
        "    def __init__(self, learning_rate=.0001, max_iters=1e4, epsilon=1e-8, record_history=False):\n",
        "        self.learning_rate = learning_rate\n",
        "        self.max_iters = max_iters\n",
        "        self.record_history = record_history\n",
        "        self.epsilon = epsilon\n",
        "        if record_history:\n",
        "            self.w_history = []                 #to store the weight history for visualization\n",
        "        self.cost_history=[]\n",
        "          \n",
        "    def run(self, gradient_fn, x, y, w, batch_size):\n",
        "        learning_rate=self.learning_rate\n",
        "        grad = np.inf\n",
        "        t = 1\n",
        "        instance=0\n",
        "        while t < self.max_iters:\n",
        "            if instance==0:\n",
        "               mini_batches =self.create_mini_batches(x, y, batch_size)\n",
        "            x_mini, y_mini= mini_batches[instance]\n",
        "            grad, cost = gradient_fn(x_mini, y_mini, w)\n",
        "            self.cost_history.append(cost)\n",
        "            w = w - learning_rate * grad         # weight update step\n",
        "            if self.record_history:\n",
        "                self.w_history.append(w)\n",
        "            learning_rate=self.learning_rate/t\n",
        "            instance+=1\n",
        "            if instance==len(mini_batches):\n",
        "              instance=0\n",
        "            t += 1\n",
        "        return w\n",
        "\n",
        "    def create_mini_batches(self, x, y, batch_size):\n",
        "      mini_batches = []\n",
        "      if len(y.shape)==1:\n",
        "        y=y[:, np.newaxis]\n",
        "      data = np.hstack((x, y))\n",
        "      #print(x.shape, y.shape)\n",
        "      np.random.shuffle(data)\n",
        "      n_minibatches = data.shape[0] // batch_size\n",
        "      i = 0\n",
        "  \n",
        "      for i in range(n_minibatches + 1):\n",
        "          mini_batch = data[i * batch_size:(i + 1)*batch_size, :]\n",
        "          X_mini = mini_batch[:, :-(y.shape[1])]\n",
        "          Y_mini = mini_batch[:, (X_mini.shape[1]):]\n",
        "          #print(X_mini.shape, Y_mini.shape)\n",
        "          mini_batches.append((X_mini, Y_mini))\n",
        "      if data.shape[0] % batch_size != 0:\n",
        "          mini_batch = data[i * batch_size:data.shape[0]]\n",
        "          X_mini = mini_batch[:, :-(y.shape[1])]\n",
        "          Y_mini = mini_batch[:, (X_mini.shape[1]):]\n",
        "          #print(X_mini.shape, Y_mini.shape)\n",
        "          mini_batches.append((X_mini, Y_mini))\n",
        "      return mini_batches"
      ],
      "metadata": {
        "id": "V4xXuZeomM5k"
      },
      "execution_count": 204,
      "outputs": []
    },
    {
      "cell_type": "markdown",
      "source": [
        "##Linear Regression"
      ],
      "metadata": {
        "id": "DDUg0W2RYIKU"
      }
    },
    {
      "cell_type": "code",
      "source": [
        "class LinearRegression:\n",
        "  def __init__(self):\n",
        "    ()\n",
        "  \n",
        "  def editData(self):\n",
        "    self.X= np.c_[np.ones((self.X).shape[0]), (self.X)] \n",
        "    return\n",
        "  \n",
        "  def fitClosedForm(self, X, Y):\n",
        "    self.X=X\n",
        "    self.Y=Y\n",
        "    self.editData()\n",
        "    self.w= np.linalg.inv((self.X).T @ (self.X))@ (self.X).T@ (self.Y)\n",
        "    return\n",
        "\n",
        "\n",
        "\n",
        "  def fitGD(self, X, Y, optimizer):#, optimizer2):\n",
        "      self.X=X\n",
        "      self.Y=Y\n",
        "      self.editData()\n",
        "      self.w=np.zeros((self.X.shape[1], self.Y.shape[1]))\n",
        "      def gradient(x, y, w):                          # define the gradient function\n",
        "          yh =  x @ w \n",
        "          N, D = x.shape\n",
        "          grad = (x.T@ (yh - y))/N\n",
        "          return grad, .5*np.mean((yh - y)**2)\n",
        "      self.w = optimizer.run(gradient, self.X, self.Y, self.w)      \n",
        "      return\n",
        "\n",
        "  def fitSGD(self, X, Y, optimizer, batch_size):\n",
        "      self.X=X\n",
        "      self.Y=Y\n",
        "      self.editData()\n",
        "      self.w=np.zeros((self.X.shape[1], self.Y.shape[1]))\n",
        "      def gradient(x, y, w):                          # define the gradient function\n",
        "          yh =  x @ w\n",
        "          grad = (x.T@ (yh - y))/(batch_size)\n",
        "          return grad, .5*np.mean((yh - y)**2)\n",
        "      self.w = optimizer.run(gradient, self.X, self.Y, self.w, batch_size)\n",
        "      return\n",
        "\n",
        "  def predict(self, Xt):\n",
        "    Xt= np.c_[np.ones((Xt).shape[0]), (Xt)] \n",
        "    return Xt @ self.w\n",
        "  \n",
        "  "
      ],
      "metadata": {
        "id": "tpRIjs7tyTre"
      },
      "execution_count": 35,
      "outputs": []
    },
    {
      "cell_type": "code",
      "source": [
        "plt.figure(figsize=(5,5))\n",
        "sns.pairplot(data=df1, y_vars=['heating_load', 'cooling_load'], x_vars=['relative_compactness', 'surface_area', 'wall_area', 'roof_area', 'overall_height', 'orientation', 'glazing_area', 'glazing_area_distribution'])\n",
        "plt.show()\n",
        "\n",
        "df1.plot(kind='density', subplots=True, layout=(3,4), sharex=False, sharey=False)\n",
        "\n",
        "print(\"Statistical Description:\", df1.describe())\n",
        "print(\"Correlation:\", df1.corr(method='pearson'))"
      ],
      "metadata": {
        "id": "BuuSpq4VWiV6"
      },
      "execution_count": 41,
      "outputs": []
    },
    {
      "cell_type": "markdown",
      "source": [
        "##Analytical linear regression"
      ],
      "metadata": {
        "id": "U2IBuEbUzNow"
      }
    },
    {
      "cell_type": "code",
      "source": [
        "#Train test split\n",
        "\n",
        "data1= df1.copy(deep=True)\n",
        "data1.drop(columns=['orientation','glazing_area_distribution'], inplace=True)\n",
        "\n",
        "train=data1.sample(frac=0.8)\n",
        "test=data1.drop(train.index)\n",
        "\n",
        "model1= LinearRegression()\n",
        "\n",
        "X_train= train.iloc[:, :6].to_numpy(copy=True) \n",
        "X_train= X_train/ X_train.max(axis=0)\n",
        "Y_train= train.iloc[:, 6:].to_numpy(copy=True)\n",
        "\n",
        "\n",
        "\n",
        "X_test= test.iloc[:, :6].to_numpy(copy=True)\n",
        "X_test= X_test/ X_test.max(axis=0)\n",
        "Y_test= test.iloc[:, 6:].to_numpy(copy=True)\n",
        "\n"
      ],
      "metadata": {
        "id": "EYH4qAcryVXx"
      },
      "execution_count": 165,
      "outputs": []
    },
    {
      "cell_type": "code",
      "source": [
        "model1.fitClosedForm(X_train, Y_train)\n",
        "Ypredict=model1.predict(X_test)\n",
        "loss=0.5*np.mean((Y_test-Ypredict)**2, axis=0)\n",
        "print(loss)"
      ],
      "metadata": {
        "colab": {
          "base_uri": "https://localhost:8080/"
        },
        "id": "g9Ku2DDDt0z6",
        "outputId": "22f23138-17be-4b38-86f7-ba180a2dd856"
      },
      "execution_count": 166,
      "outputs": [
        {
          "output_type": "stream",
          "name": "stdout",
          "text": [
            "[4.92542382 4.79912666]\n"
          ]
        }
      ]
    },
    {
      "cell_type": "markdown",
      "source": [
        "## Gradient descent"
      ],
      "metadata": {
        "id": "Y8VFGpC-zhxB"
      }
    },
    {
      "cell_type": "code",
      "source": [
        "optimizer = GradientDescent(learning_rate=0.1, max_iters=1e4, record_history=False)\n",
        "model= LinearRegression()\n",
        "model.fitGD(X_train, Y_train, optimizer)"
      ],
      "metadata": {
        "id": "_uoi9IfxEKeM"
      },
      "execution_count": 182,
      "outputs": []
    },
    {
      "cell_type": "code",
      "source": [
        "Ypredict=model.predict(X_test)\n",
        "#print(np.c_[Y_test, Ypredict])\n",
        "loss=0.5*np.mean((Y_test-Ypredict)**2, axis=0)\n",
        "print(loss)"
      ],
      "metadata": {
        "id": "d-wBmN3x1eO3",
        "outputId": "abd0e376-5694-4e4d-a2e3-cb43c2f812f4",
        "colab": {
          "base_uri": "https://localhost:8080/"
        }
      },
      "execution_count": 183,
      "outputs": [
        {
          "output_type": "stream",
          "name": "stdout",
          "text": [
            "[4.63943904 4.78862673]\n"
          ]
        }
      ]
    },
    {
      "cell_type": "code",
      "source": [
        "optimizer = StochasticGradientDescent(learning_rate=0.8, max_iters=1e4, record_history=False) \n",
        "model= LinearRegression()\n",
        "model.fitSGD(X_train, Y_train, optimizer, 24)"
      ],
      "metadata": {
        "id": "3IUz3W5utSLS"
      },
      "execution_count": 177,
      "outputs": []
    },
    {
      "cell_type": "code",
      "source": [
        "Ypredict=model.predict(X_test)\n",
        "#print(np.c_[Y_test, Ypredict])\n",
        "loss=0.5*np.mean((Y_test-Ypredict)**2, axis=0)\n",
        "print(loss)"
      ],
      "metadata": {
        "colab": {
          "base_uri": "https://localhost:8080/"
        },
        "id": "pnfdLo2qtWnF",
        "outputId": "a128ab1e-f0b8-43e8-92bb-673069df1d6e"
      },
      "execution_count": 178,
      "outputs": [
        {
          "output_type": "stream",
          "name": "stdout",
          "text": [
            "[11.24003674  9.45826323]\n"
          ]
        }
      ]
    },
    {
      "cell_type": "code",
      "source": [
        "print(np.c_[Y_test, Ypredict])"
      ],
      "metadata": {
        "id": "h6y2LYxMzGxn"
      },
      "execution_count": null,
      "outputs": []
    },
    {
      "cell_type": "code",
      "source": [
        "import matplotlib.pyplot as plt\n",
        "plt.plot(np.arange(len(optimizer.cost_history)), optimizer.cost_history, '.')\n",
        "plt.show()\n"
      ],
      "metadata": {
        "id": "eg2SpJXK2mRS",
        "outputId": "bf7f2588-16bb-463f-8a07-b3ad68a62ff0",
        "colab": {
          "base_uri": "https://localhost:8080/",
          "height": 265
        }
      },
      "execution_count": 180,
      "outputs": [
        {
          "output_type": "display_data",
          "data": {
            "text/plain": [
              "<Figure size 432x288 with 1 Axes>"
            ],
            "image/png": "[encoded data removed]"
          },
          "metadata": {
            "needs_background": "light"
          }
        }
      ]
    },
    {
      "cell_type": "code",
      "source": [
        "loss = lambda y, yh: 0.5*np.mean((y-yh)**2)\n",
        "num_folds = 5\n",
        "model = LinearRegression()\n",
        "learning_rates=[0.01, 0.03, 0.05, 0.1, 0.3]\n",
        "err_test, err_valid = np.zeros(len(learning_rates)), np.zeros((len(learning_rates), num_folds))\n",
        "for i, K in enumerate(learning_rates):\n",
        "    #Find the validation errors for num_folds splits for a given K\n",
        "    for f, (tr, val) in enumerate(cross_validate(X_train.shape[0], num_folds)):\n",
        "        optimizer = GradientDescent(learning_rate=K, max_iters=1e4, record_history=False)\n",
        "        #print(X_train.shape, X_train[tr, :].shape, Y_train.shape, Y_train[tr, :].shape)\n",
        "        params = model.fitGD(X_train[tr, :], Y_train[tr, :], optimizer)\n",
        "        err_valid[i, f] = loss(Y_train[val], model.predict(X_train[val]))\n",
        "    #this is the part that we don't do in a usual setup. We don't touch the test set until the very end. \n",
        "    params = model.fitGD(X_train[tr], Y_train[tr], optimizer)\n",
        "    err_test[i]= loss(Y_test, model.predict(X_test))\n",
        "    \n",
        "plt.plot(learning_rates, err_test,  label='test')\n",
        "plt.errorbar(learning_rates, np.mean(err_valid, axis=1), np.std(err_valid, axis=1), label='validation')\n",
        "plt.legend()\n",
        "plt.xlabel('Learning Rate)')\n",
        "plt.ylabel('mean squared error')\n",
        "plt.show()"
      ],
      "metadata": {
        "colab": {
          "base_uri": "https://localhost:8080/",
          "height": 279
        },
        "id": "YumGWi-wwIJR",
        "outputId": "1d9c1757-76d3-4a10-8067-d709aa9d8b3c"
      },
      "execution_count": 181,
      "outputs": [
        {
          "output_type": "display_data",
          "data": {
            "text/plain": [
              "<Figure size 432x288 with 1 Axes>"
            ],
            "image/png": "[encoded data removed]"
          },
          "metadata": {
            "needs_background": "light"
          }
        }
      ]
    },
    {
      "cell_type": "markdown",
      "source": [
        "##Confusion matrix"
      ],
      "metadata": {
        "id": "EymWeqeg4orf"
      }
    },
    {
      "cell_type": "code",
      "metadata": {
        "id": "6mwbkN--9i_-"
      },
      "source": [
        "def confusion_matrix(y, yh):\n",
        "    n_classes = np.max(y) + 1\n",
        "    c_matrix = np.zeros((n_classes, n_classes))\n",
        "    for c1 in range(n_classes):\n",
        "        for c2 in range(n_classes):\n",
        "            #(y==c1)*(yh==c2) is 1 when both conditions are true or 0\n",
        "            c_matrix[c1, c2] = np.sum((y==c1)*(yh==c2))\n",
        "    return c_matrix\n",
        "\n"
      ],
      "execution_count": 220,
      "outputs": []
    },
    {
      "cell_type": "markdown",
      "source": [
        "## Logistic Regression"
      ],
      "metadata": {
        "id": "8RwtrfKrzm1s"
      }
    },
    {
      "cell_type": "code",
      "source": [
        "df2.head()"
      ],
      "metadata": {
        "id": "HwPPEDnS1M5N",
        "outputId": "e74dbd42-fd20-4c4a-b511-7eb28a7adf2c",
        "colab": {
          "base_uri": "https://localhost:8080/",
          "height": 206
        }
      },
      "execution_count": null,
      "outputs": [
        {
          "output_type": "execute_result",
          "data": {
            "text/plain": [
              "   0  1  2  3  4  5   6\n",
              "0  P  P  A  A  A  P  NB\n",
              "1  N  N  A  A  A  N  NB\n",
              "2  A  A  A  A  A  A  NB\n",
              "3  P  P  P  P  P  P  NB\n",
              "4  N  N  P  P  P  N  NB"
            ],
            "text/html": [
              "\n",
              "  <div id=\"df-14487a94-f7cc-4179-9562-2538c16b12ea\">\n",
              "    <div class=\"colab-df-container\">\n",
              "      <div>\n",
              "<style scoped>\n",
              "    .dataframe tbody tr th:only-of-type {\n",
              "        vertical-align: middle;\n",
              "    }\n",
              "\n",
              "    .dataframe tbody tr th {\n",
              "        vertical-align: top;\n",
              "    }\n",
              "\n",
              "    .dataframe thead th {\n",
              "        text-align: right;\n",
              "    }\n",
              "</style>\n",
              "<table border=\"1\" class=\"dataframe\">\n",
              "  <thead>\n",
              "    <tr style=\"text-align: right;\">\n",
              "      <th></th>\n",
              "      <th>0</th>\n",
              "      <th>1</th>\n",
              "      <th>2</th>\n",
              "      <th>3</th>\n",
              "      <th>4</th>\n",
              "      <th>5</th>\n",
              "      <th>6</th>\n",
              "    </tr>\n",
              "  </thead>\n",
              "  <tbody>\n",
              "    <tr>\n",
              "      <th>0</th>\n",
              "      <td>P</td>\n",
              "      <td>P</td>\n",
              "      <td>A</td>\n",
              "      <td>A</td>\n",
              "      <td>A</td>\n",
              "      <td>P</td>\n",
              "      <td>NB</td>\n",
              "    </tr>\n",
              "    <tr>\n",
              "      <th>1</th>\n",
              "      <td>N</td>\n",
              "      <td>N</td>\n",
              "      <td>A</td>\n",
              "      <td>A</td>\n",
              "      <td>A</td>\n",
              "      <td>N</td>\n",
              "      <td>NB</td>\n",
              "    </tr>\n",
              "    <tr>\n",
              "      <th>2</th>\n",
              "      <td>A</td>\n",
              "      <td>A</td>\n",
              "      <td>A</td>\n",
              "      <td>A</td>\n",
              "      <td>A</td>\n",
              "      <td>A</td>\n",
              "      <td>NB</td>\n",
              "    </tr>\n",
              "    <tr>\n",
              "      <th>3</th>\n",
              "      <td>P</td>\n",
              "      <td>P</td>\n",
              "      <td>P</td>\n",
              "      <td>P</td>\n",
              "      <td>P</td>\n",
              "      <td>P</td>\n",
              "      <td>NB</td>\n",
              "    </tr>\n",
              "    <tr>\n",
              "      <th>4</th>\n",
              "      <td>N</td>\n",
              "      <td>N</td>\n",
              "      <td>P</td>\n",
              "      <td>P</td>\n",
              "      <td>P</td>\n",
              "      <td>N</td>\n",
              "      <td>NB</td>\n",
              "    </tr>\n",
              "  </tbody>\n",
              "</table>\n",
              "</div>\n",
              "      <button class=\"colab-df-convert\" onclick=\"convertToInteractive('df-14487a94-f7cc-4179-9562-2538c16b12ea')\"\n",
              "              title=\"Convert this dataframe to an interactive table.\"\n",
              "              style=\"display:none;\">\n",
              "        \n",
              "  <svg xmlns=\"http://www.w3.org/2000/svg\" height=\"24px\"viewBox=\"0 0 24 24\"\n",
              "       width=\"24px\">\n",
              "    <path d=\"M0 0h24v24H0V0z\" fill=\"none\"/>\n",
              "    <path d=\"M18.56 5.44l.94 2.06.94-2.06 2.06-.94-2.06-.94-.94-2.06-.94 2.06-2.06.94zm-11 1L8.5 8.5l.94-2.06 2.06-.94-2.06-.94L8.5 2.5l-.94 2.06-2.06.94zm10 10l.94 2.06.94-2.06 2.06-.94-2.06-.94-.94-2.06-.94 2.06-2.06.94z\"/><path d=\"M17.41 7.96l-1.37-1.37c-.4-.4-.92-.59-1.43-.59-.52 0-1.04.2-1.43.59L10.3 9.45l-7.72 7.72c-.78.78-.78 2.05 0 2.83L4 21.41c.39.39.9.59 1.41.59.51 0 1.02-.2 1.41-.59l7.78-7.78 2.81-2.81c.8-.78.8-2.07 0-2.86zM5.41 20L4 18.59l7.72-7.72 1.47 1.35L5.41 20z\"/>\n",
              "  </svg>\n",
              "      </button>\n",
              "      \n",
              "  <style>\n",
              "    .colab-df-container {\n",
              "      display:flex;\n",
              "      flex-wrap:wrap;\n",
              "      gap: 12px;\n",
              "    }\n",
              "\n",
              "    .colab-df-convert {\n",
              "      background-color: #E8F0FE;\n",
              "      border: none;\n",
              "      border-radius: 50%;\n",
              "      cursor: pointer;\n",
              "      display: none;\n",
              "      fill: #1967D2;\n",
              "      height: 32px;\n",
              "      padding: 0 0 0 0;\n",
              "      width: 32px;\n",
              "    }\n",
              "\n",
              "    .colab-df-convert:hover {\n",
              "      background-color: #E2EBFA;\n",
              "      box-shadow: 0px 1px 2px rgba(60, 64, 67, 0.3), 0px 1px 3px 1px rgba(60, 64, 67, 0.15);\n",
              "      fill: #174EA6;\n",
              "    }\n",
              "\n",
              "    [theme=dark] .colab-df-convert {\n",
              "      background-color: #3B4455;\n",
              "      fill: #D2E3FC;\n",
              "    }\n",
              "\n",
              "    [theme=dark] .colab-df-convert:hover {\n",
              "      background-color: #434B5C;\n",
              "      box-shadow: 0px 1px 3px 1px rgba(0, 0, 0, 0.15);\n",
              "      filter: drop-shadow(0px 1px 2px rgba(0, 0, 0, 0.3));\n",
              "      fill: #FFFFFF;\n",
              "    }\n",
              "  </style>\n",
              "\n",
              "      <script>\n",
              "        const buttonEl =\n",
              "          document.querySelector('#df-14487a94-f7cc-4179-9562-2538c16b12ea button.colab-df-convert');\n",
              "        buttonEl.style.display =\n",
              "          google.colab.kernel.accessAllowed ? 'block' : 'none';\n",
              "\n",
              "        async function convertToInteractive(key) {\n",
              "          const element = document.querySelector('#df-14487a94-f7cc-4179-9562-2538c16b12ea');\n",
              "          const dataTable =\n",
              "            await google.colab.kernel.invokeFunction('convertToInteractive',\n",
              "                                                     [key], {});\n",
              "          if (!dataTable) return;\n",
              "\n",
              "          const docLinkHtml = 'Like what you see? Visit the ' +\n",
              "            '<a target=\"_blank\" href=https://colab.research.google.com/notebooks/data_table.ipynb>data table notebook</a>'\n",
              "            + ' to learn more about interactive tables.';\n",
              "          element.innerHTML = '';\n",
              "          dataTable['output_type'] = 'display_data';\n",
              "          await google.colab.output.renderOutput(dataTable, element);\n",
              "          const docLink = document.createElement('div');\n",
              "          docLink.innerHTML = docLinkHtml;\n",
              "          element.appendChild(docLink);\n",
              "        }\n",
              "      </script>\n",
              "    </div>\n",
              "  </div>\n",
              "  "
            ]
          },
          "metadata": {},
          "execution_count": 16
        }
      ]
    },
    {
      "cell_type": "code",
      "source": [
        "check_nan = df2.isnull().values.any()\n",
        "print(check_nan)"
      ],
      "metadata": {
        "id": "-bddP5hT2PGO",
        "outputId": "9b08ecf2-547f-46f3-ac6f-15d75df6bbca",
        "colab": {
          "base_uri": "https://localhost:8080/"
        }
      },
      "execution_count": 185,
      "outputs": [
        {
          "output_type": "stream",
          "name": "stdout",
          "text": [
            "False\n"
          ]
        }
      ]
    },
    {
      "cell_type": "code",
      "source": [
        "## One-hot encoding for categorical data\n",
        "data2= df2.copy(deep=True)\n",
        "data2[6].replace(['NB', 'B'], [0, 1], inplace=True)\n",
        "for i in range(6):\n",
        "  data2[i].replace(['N', 'A', 'P'], [-1, 0, 1], inplace=True)\n",
        "data2.head()"
      ],
      "metadata": {
        "id": "2HtmpZDRzmO2",
        "outputId": "29c63c0b-c2d7-42cb-9487-3ae05581e088",
        "colab": {
          "base_uri": "https://localhost:8080/",
          "height": 206
        }
      },
      "execution_count": 186,
      "outputs": [
        {
          "output_type": "execute_result",
          "data": {
            "text/plain": [
              "   0  1  2  3  4  5  6\n",
              "0  1  1  0  0  0  1  0\n",
              "1 -1 -1  0  0  0 -1  0\n",
              "2  0  0  0  0  0  0  0\n",
              "3  1  1  1  1  1  1  0\n",
              "4 -1 -1  1  1  1 -1  0"
            ],
            "text/html": [
              "\n",
              "  <div id=\"df-851b2705-fe4a-4987-a444-1300e857085e\">\n",
              "    <div class=\"colab-df-container\">\n",
              "      <div>\n",
              "<style scoped>\n",
              "    .dataframe tbody tr th:only-of-type {\n",
              "        vertical-align: middle;\n",
              "    }\n",
              "\n",
              "    .dataframe tbody tr th {\n",
              "        vertical-align: top;\n",
              "    }\n",
              "\n",
              "    .dataframe thead th {\n",
              "        text-align: right;\n",
              "    }\n",
              "</style>\n",
              "<table border=\"1\" class=\"dataframe\">\n",
              "  <thead>\n",
              "    <tr style=\"text-align: right;\">\n",
              "      <th></th>\n",
              "      <th>0</th>\n",
              "      <th>1</th>\n",
              "      <th>2</th>\n",
              "      <th>3</th>\n",
              "      <th>4</th>\n",
              "      <th>5</th>\n",
              "      <th>6</th>\n",
              "    </tr>\n",
              "  </thead>\n",
              "  <tbody>\n",
              "    <tr>\n",
              "      <th>0</th>\n",
              "      <td>1</td>\n",
              "      <td>1</td>\n",
              "      <td>0</td>\n",
              "      <td>0</td>\n",
              "      <td>0</td>\n",
              "      <td>1</td>\n",
              "      <td>0</td>\n",
              "    </tr>\n",
              "    <tr>\n",
              "      <th>1</th>\n",
              "      <td>-1</td>\n",
              "      <td>-1</td>\n",
              "      <td>0</td>\n",
              "      <td>0</td>\n",
              "      <td>0</td>\n",
              "      <td>-1</td>\n",
              "      <td>0</td>\n",
              "    </tr>\n",
              "    <tr>\n",
              "      <th>2</th>\n",
              "      <td>0</td>\n",
              "      <td>0</td>\n",
              "      <td>0</td>\n",
              "      <td>0</td>\n",
              "      <td>0</td>\n",
              "      <td>0</td>\n",
              "      <td>0</td>\n",
              "    </tr>\n",
              "    <tr>\n",
              "      <th>3</th>\n",
              "      <td>1</td>\n",
              "      <td>1</td>\n",
              "      <td>1</td>\n",
              "      <td>1</td>\n",
              "      <td>1</td>\n",
              "      <td>1</td>\n",
              "      <td>0</td>\n",
              "    </tr>\n",
              "    <tr>\n",
              "      <th>4</th>\n",
              "      <td>-1</td>\n",
              "      <td>-1</td>\n",
              "      <td>1</td>\n",
              "      <td>1</td>\n",
              "      <td>1</td>\n",
              "      <td>-1</td>\n",
              "      <td>0</td>\n",
              "    </tr>\n",
              "  </tbody>\n",
              "</table>\n",
              "</div>\n",
              "      <button class=\"colab-df-convert\" onclick=\"convertToInteractive('df-851b2705-fe4a-4987-a444-1300e857085e')\"\n",
              "              title=\"Convert this dataframe to an interactive table.\"\n",
              "              style=\"display:none;\">\n",
              "        \n",
              "  <svg xmlns=\"http://www.w3.org/2000/svg\" height=\"24px\"viewBox=\"0 0 24 24\"\n",
              "       width=\"24px\">\n",
              "    <path d=\"M0 0h24v24H0V0z\" fill=\"none\"/>\n",
              "    <path d=\"M18.56 5.44l.94 2.06.94-2.06 2.06-.94-2.06-.94-.94-2.06-.94 2.06-2.06.94zm-11 1L8.5 8.5l.94-2.06 2.06-.94-2.06-.94L8.5 2.5l-.94 2.06-2.06.94zm10 10l.94 2.06.94-2.06 2.06-.94-2.06-.94-.94-2.06-.94 2.06-2.06.94z\"/><path d=\"M17.41 7.96l-1.37-1.37c-.4-.4-.92-.59-1.43-.59-.52 0-1.04.2-1.43.59L10.3 9.45l-7.72 7.72c-.78.78-.78 2.05 0 2.83L4 21.41c.39.39.9.59 1.41.59.51 0 1.02-.2 1.41-.59l7.78-7.78 2.81-2.81c.8-.78.8-2.07 0-2.86zM5.41 20L4 18.59l7.72-7.72 1.47 1.35L5.41 20z\"/>\n",
              "  </svg>\n",
              "      </button>\n",
              "      \n",
              "  <style>\n",
              "    .colab-df-container {\n",
              "      display:flex;\n",
              "      flex-wrap:wrap;\n",
              "      gap: 12px;\n",
              "    }\n",
              "\n",
              "    .colab-df-convert {\n",
              "      background-color: #E8F0FE;\n",
              "      border: none;\n",
              "      border-radius: 50%;\n",
              "      cursor: pointer;\n",
              "      display: none;\n",
              "      fill: #1967D2;\n",
              "      height: 32px;\n",
              "      padding: 0 0 0 0;\n",
              "      width: 32px;\n",
              "    }\n",
              "\n",
              "    .colab-df-convert:hover {\n",
              "      background-color: #E2EBFA;\n",
              "      box-shadow: 0px 1px 2px rgba(60, 64, 67, 0.3), 0px 1px 3px 1px rgba(60, 64, 67, 0.15);\n",
              "      fill: #174EA6;\n",
              "    }\n",
              "\n",
              "    [theme=dark] .colab-df-convert {\n",
              "      background-color: #3B4455;\n",
              "      fill: #D2E3FC;\n",
              "    }\n",
              "\n",
              "    [theme=dark] .colab-df-convert:hover {\n",
              "      background-color: #434B5C;\n",
              "      box-shadow: 0px 1px 3px 1px rgba(0, 0, 0, 0.15);\n",
              "      filter: drop-shadow(0px 1px 2px rgba(0, 0, 0, 0.3));\n",
              "      fill: #FFFFFF;\n",
              "    }\n",
              "  </style>\n",
              "\n",
              "      <script>\n",
              "        const buttonEl =\n",
              "          document.querySelector('#df-851b2705-fe4a-4987-a444-1300e857085e button.colab-df-convert');\n",
              "        buttonEl.style.display =\n",
              "          google.colab.kernel.accessAllowed ? 'block' : 'none';\n",
              "\n",
              "        async function convertToInteractive(key) {\n",
              "          const element = document.querySelector('#df-851b2705-fe4a-4987-a444-1300e857085e');\n",
              "          const dataTable =\n",
              "            await google.colab.kernel.invokeFunction('convertToInteractive',\n",
              "                                                     [key], {});\n",
              "          if (!dataTable) return;\n",
              "\n",
              "          const docLinkHtml = 'Like what you see? Visit the ' +\n",
              "            '<a target=\"_blank\" href=https://colab.research.google.com/notebooks/data_table.ipynb>data table notebook</a>'\n",
              "            + ' to learn more about interactive tables.';\n",
              "          element.innerHTML = '';\n",
              "          dataTable['output_type'] = 'display_data';\n",
              "          await google.colab.output.renderOutput(dataTable, element);\n",
              "          const docLink = document.createElement('div');\n",
              "          docLink.innerHTML = docLinkHtml;\n",
              "          element.appendChild(docLink);\n",
              "        }\n",
              "      </script>\n",
              "    </div>\n",
              "  </div>\n",
              "  "
            ]
          },
          "metadata": {},
          "execution_count": 186
        }
      ]
    },
    {
      "cell_type": "code",
      "source": [
        "plt.figure(figsize=(5,5))\n",
        "sns.pairplot(data=data2, y_vars=[6], x_vars=[0,1,2,3,4,5])\n",
        "plt.show()\n",
        "\n",
        "df1.plot(kind='density', subplots=True, layout=(3,4), sharex=False, sharey=False)\n",
        "\n",
        "print(\"Statistical Description:\", data2.describe())\n",
        "print(\"Correlation:\", data2.corr())"
      ],
      "metadata": {
        "id": "2pIxM7o-NBrO",
        "outputId": "a5b56315-c07d-4809-d91f-603abf028057",
        "colab": {
          "base_uri": "https://localhost:8080/",
          "height": 931
        }
      },
      "execution_count": 192,
      "outputs": [
        {
          "output_type": "display_data",
          "data": {
            "text/plain": [
              "<Figure size 360x360 with 0 Axes>"
            ]
          },
          "metadata": {}
        },
        {
          "output_type": "display_data",
          "data": {
            "text/plain": [
              "<Figure size 1080x180 with 6 Axes>"
            ],
            "image/png": "[encoded data removed]"
          },
          "metadata": {
            "needs_background": "light"
          }
        },
        {
          "output_type": "stream",
          "name": "stdout",
          "text": [
            "Statistical Description:                 0          1           2           3           4          5  \\\n",
            "count  250.000000  250.00000  250.000000  250.000000  250.000000  250.00000   \n",
            "mean    -0.036000   -0.22800   -0.248000   -0.060000   -0.048000   -0.14000   \n",
            "std      0.823051    0.82141    0.803166    0.831363    0.881364    0.86915   \n",
            "min     -1.000000   -1.00000   -1.000000   -1.000000   -1.000000   -1.00000   \n",
            "25%     -1.000000   -1.00000   -1.000000   -1.000000   -1.000000   -1.00000   \n",
            "50%      0.000000    0.00000    0.000000    0.000000    0.000000    0.00000   \n",
            "75%      1.000000    0.00000    0.000000    1.000000    1.000000    1.00000   \n",
            "max      1.000000    1.00000    1.000000    1.000000    1.000000    1.00000   \n",
            "\n",
            "                6  \n",
            "count  250.000000  \n",
            "mean     0.428000  \n",
            "std      0.495781  \n",
            "min      0.000000  \n",
            "25%      0.000000  \n",
            "50%      0.000000  \n",
            "75%      1.000000  \n",
            "max      1.000000  \n",
            "Correlation:           0         1         2         3         4         5         6\n",
            "0  1.000000  0.255127  0.162624  0.014438  0.257814  0.144507 -0.227823\n",
            "1  0.255127  1.000000  0.254845  0.303341  0.306568  0.213874 -0.370838\n",
            "2  0.162624  0.254845  1.000000  0.524951  0.686612  0.116903 -0.751020\n",
            "3  0.014438  0.303341  0.524951  1.000000  0.675689  0.288458 -0.755909\n",
            "4  0.257814  0.306568  0.686612  0.675689  1.000000  0.211383 -0.899452\n",
            "5  0.144507  0.213874  0.116903  0.288458  0.211383  1.000000 -0.279786\n",
            "6 -0.227823 -0.370838 -0.751020 -0.755909 -0.899452 -0.279786  1.000000\n"
          ]
        },
        {
          "output_type": "display_data",
          "data": {
            "text/plain": [
              "<Figure size 432x288 with 12 Axes>"
            ],
            "image/png": "[encoded data removed]"
          },
          "metadata": {
            "needs_background": "light"
          }
        }
      ]
    },
    {
      "cell_type": "code",
      "source": [
        "logistic = lambda z: 1./ (1 + np.exp(-z))\n",
        "class LogisticRegression:\n",
        "  \n",
        "  def editData(self):\n",
        "    self.X= np.c_[np.ones((self.X).shape[0]), (self.X)] \n",
        "    return\n",
        "\n",
        "  def fitGD(self, X, Y, optimizer):\n",
        "      self.X= X\n",
        "      self.Y= Y#np.squeeze(Y)\n",
        "      self.editData()\n",
        "      def gradient(x, y, w):\n",
        "          N,D = x.shape\n",
        "          yh = logistic(x @ w)   # predictions  size N\n",
        "          grad = (x.T@ (yh - y))/N#np.dot(yh-y, x)/N\n",
        "          return grad, self.cost_fn(x,y,w)\n",
        "      #w0 = np.zeros(self.X.shape[1])                            # initialize the weights\n",
        "      #print(self.X.shape, w0.shape) \n",
        "      self.w=np.zeros((self.X.shape[1], self.Y.shape[1]))  \n",
        "      self.w = optimizer.run(gradient, self.X, self.Y, self.w)      # run the optimizer to get the optimal weights\n",
        "      return self.w\n",
        "\n",
        "  def fitSGD(self, X, Y, optimizer, batch_size):\n",
        "    self.X= X\n",
        "    self.Y= Y#np.squeeze(Y)\n",
        "    self.editData()\n",
        "    def gradient(x, y, w):\n",
        "        yh = logistic(x @ w)   # predictions  size N\n",
        "        grad = (x.T@ (yh - y))/(batch_size)\n",
        "        return grad, self.cost_fn(x,y,w)\n",
        "    self.w=np.zeros((self.X.shape[1], self.Y.shape[1]))                            # initialize the weights\n",
        "    self.w = optimizer.run(gradient, self.X, self.Y, self.w, batch_size)      # run the optimizer to get the optimal weights\n",
        "    return self.w\n",
        "\n",
        "  def cost_fn(self, x, y, w):\n",
        "    N, D = x.shape                                                       \n",
        "    z = np.dot(x, w)\n",
        "    J =np.mean(np.squeeze(y) * np.squeeze(np.log1p(np.exp(-z))) + (1-np.squeeze(y)) * np.squeeze(np.log1p(np.exp(z)))) #log1p calculates log(1+x) to remove floating point inaccuracies \n",
        "    return J\n",
        "\n",
        "  def predict(self, Xt):\n",
        "    Xt= np.c_[np.ones((Xt).shape[0]), (Xt)] \n",
        "    return logistic(Xt @ self.w)\n",
        " "
      ],
      "metadata": {
        "id": "IYxP4QQ_Eq7j"
      },
      "execution_count": 236,
      "outputs": []
    },
    {
      "cell_type": "code",
      "source": [
        "train=data2.sample(frac=0.8)\n",
        "test=data2.drop(train.index)\n",
        "\n",
        "X_train= train.iloc[:, :6].to_numpy(copy=True) \n",
        "Y_train= train.iloc[:, 6:].to_numpy(copy=True)\n",
        "\n",
        "X_test= test.iloc[:, :6].to_numpy(copy=True) \n",
        "Y_test= test.iloc[:, 6:].to_numpy(copy=True)"
      ],
      "metadata": {
        "id": "RbgGWbW5BiKr"
      },
      "execution_count": 263,
      "outputs": []
    },
    {
      "cell_type": "code",
      "source": [
        "optimizer = GradientDescent(learning_rate=.01, max_iters=5000, record_history=False)#GradientDescent(learning_rate=.0003, max_iters=5000, record_history=False)\n",
        "model= LogisticRegression()\n",
        "W=model.fitGD(X_train, Y_train, optimizer)\n",
        "Ypredict=model.predict(X_test)\n",
        "print(model.cost_fn(np.c_[np.ones((X_test).shape[0]), (X_test)] , np.squeeze(Y_test), W))"
      ],
      "metadata": {
        "id": "phvNNTWRJOlf",
        "outputId": "2bc47b02-c3b8-459c-9d71-c9e3f3472ca8",
        "colab": {
          "base_uri": "https://localhost:8080/"
        }
      },
      "execution_count": 267,
      "outputs": [
        {
          "output_type": "stream",
          "name": "stdout",
          "text": [
            "0.04317845858384514\n"
          ]
        }
      ]
    },
    {
      "cell_type": "code",
      "source": [
        "optimizer = StochasticGradientDescent(learning_rate=0.7, max_iters=5000, record_history=False)#GradientDescent(learning_rate=.0003, max_iters=5000, record_history=False)\n",
        "model= LogisticRegression()\n",
        "W=model.fitSGD(X_train, Y_train, optimizer, 10)\n",
        "Ypredict=model.predict(X_test)\n",
        "print(model.cost_fn(np.c_[np.ones((X_test).shape[0]), (X_test)] , np.squeeze(Y_test), W))"
      ],
      "metadata": {
        "id": "8rmHbmcV6l9N",
        "outputId": "bd92b3f3-82a1-4490-a21c-0b13d8f312a6",
        "colab": {
          "base_uri": "https://localhost:8080/"
        }
      },
      "execution_count": 265,
      "outputs": [
        {
          "output_type": "stream",
          "name": "stdout",
          "text": [
            "0.17124173220673\n"
          ]
        }
      ]
    },
    {
      "cell_type": "code",
      "source": [
        "cmat = confusion_matrix(Y_test, (Ypredict>0.5).astype(int))\n",
        "print(cmat)\n",
        "print(f'accuracy: {np.sum(np.diag(cmat))/np.sum(cmat)}')"
      ],
      "metadata": {
        "colab": {
          "base_uri": "https://localhost:8080/"
        },
        "id": "7TwTS8hB5HgI",
        "outputId": "f3f6ea03-6970-48cc-9d26-4a1cb8c937e9"
      },
      "execution_count": 268,
      "outputs": [
        {
          "output_type": "stream",
          "name": "stdout",
          "text": [
            "[[28.  0.]\n",
            " [ 0. 22.]]\n",
            "accuracy: 1.0\n"
          ]
        }
      ]
    }
  ]
}