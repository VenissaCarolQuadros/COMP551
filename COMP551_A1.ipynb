{
  "nbformat": 4,
  "nbformat_minor": 0,
  "metadata": {
    "colab": {
      "provenance": [],
      "authorship_tag": "ABX9TyM2TSA4IGbxC5gaa3EYSi7A",
      "include_colab_link": true
    },
    "kernelspec": {
      "name": "python3",
      "display_name": "Python 3"
    },
    "language_info": {
      "name": "python"
    }
  },
  "cells": [
    {
      "cell_type": "markdown",
      "metadata": {
        "id": "view-in-github",
        "colab_type": "text"
      },
      "source": [
        "<a href=\"https://colab.research.google.com/github/VenissaCarolQuadros/COMP551/blob/dev3/COMP551_A1.ipynb\" target=\"_parent\"><img src=\"https://colab.research.google.com/assets/colab-badge.svg\" alt=\"Open In Colab\"/></a>"
      ]
    },
    {
      "cell_type": "code",
      "source": [
        "import requests\n",
        "import pandas as pd\n",
        "import numpy as np\n",
        "import matplotlib.pyplot as plt\n",
        "import seaborn as sns"
      ],
      "metadata": {
        "id": "JQoT2qUqK0k0"
      },
      "execution_count": null,
      "outputs": []
    },
    {
      "cell_type": "code",
      "source": [
        "def read_data(url, dest):\n",
        "  response = requests.get(url)\n",
        "  with open(dest, 'wb') as file:\n",
        "      file.write(response.content)\n",
        "  return"
      ],
      "metadata": {
        "id": "0s9G1-4lRQpN"
      },
      "execution_count": null,
      "outputs": []
    },
    {
      "cell_type": "code",
      "source": [
        "dest1= 'LinearRegression.xlsx'\n",
        "read_data(\"https://raw.githubusercontent.com/VenissaCarolQuadros/COMP551/main/data/ENB2012_data.xlsx\", dest1)\n",
        "df1= pd.read_excel(dest1)\n",
        "df1.columns = ['relative_compactness', 'surface_area', 'wall_area', 'roof_area', 'overall_height', 'orientation', 'glazing_area', 'glazing_area_distribution', 'heating_load', 'cooling_load']\n",
        "\n",
        "dest2= 'LogisticRegression.csv'\n",
        "read_data('https://raw.githubusercontent.com/VenissaCarolQuadros/COMP551/main/data/Qualitative_Bankruptcy/Qualitative_Bankruptcy.data.txt', dest2)\n",
        "df2= pd.read_csv(dest2, header=None)\n"
      ],
      "metadata": {
        "id": "tZ2dKvEwRkDm"
      },
      "execution_count": 22,
      "outputs": []
    },
    {
      "cell_type": "code",
      "source": [
        "print(\"Verifying shape of df1:\", df1.shape, \"\\nVerifying shape of df2:\", df2.shape) ##Verifying dataset size\n",
        "print( \"Checking for nulls in df1:\", df1[df1.eq('?').any(1)])\n",
        "print(\"Checking for nulls in df1:\", df2[ df2.eq('?').any(1)]) #Checking for nulls\n",
        "##No nulls found. Dataset size seems right"
      ],
      "metadata": {
        "colab": {
          "base_uri": "https://localhost:8080/"
        },
        "id": "rOYCyYATSIGM",
        "outputId": "b21717d8-521e-4171-8684-5defc6963b85"
      },
      "execution_count": 21,
      "outputs": [
        {
          "output_type": "stream",
          "name": "stdout",
          "text": [
            "Verifying shape of df1: (768, 10) \n",
            "Verifying shape of df2: (250, 7)\n",
            "Checking for nulls in df1: Empty DataFrame\n",
            "Columns: [relative_compactness, surface_area, wall_area, roof_area, overall_height, orientation, glazing_area, glazing_area_distribution, heating_load, cooling_load]\n",
            "Index: []\n",
            "Checking for nulls in df1: Empty DataFrame\n",
            "Columns: [0, 1, 2, 3, 4, 5, 6]\n",
            "Index: []\n"
          ]
        }
      ]
    },
    {
      "cell_type": "markdown",
      "source": [
        "##Cross validation"
      ],
      "metadata": {
        "id": "oYoTvT1fvw8d"
      }
    },
    {
      "cell_type": "code",
      "source": [
        "def cross_validate(n, n_folds=5):\n",
        "    #get the number of data samples in each split\n",
        "    n_val = n // n_folds\n",
        "    inds = np.random.permutation(n)\n",
        "    inds = []\n",
        "    for f in range(n_folds):\n",
        "        tr_inds = []\n",
        "        #get the validation indexes\n",
        "        val_inds = list(range(f * n_val, (f+1)*n_val))\n",
        "        #get the train indexes\n",
        "        if f > 0:\n",
        "            tr_inds = list(range(f*n_val))\n",
        "        if f < n_folds - 1:\n",
        "            tr_inds = tr_inds + list(range((f+1)*n_val, n))\n",
        "        #The yield statement suspends function’s execution and sends a value back to the caller\n",
        "        #but retains enough state information to enable function to resume where it is left off\n",
        "        yield tr_inds, val_inds"
      ],
      "metadata": {
        "id": "JpqRcUYlvvss"
      },
      "execution_count": 20,
      "outputs": []
    },
    {
      "cell_type": "markdown",
      "source": [
        "##Gradient Descent"
      ],
      "metadata": {
        "id": "iI6xzhkRvtOq"
      }
    },
    {
      "cell_type": "code",
      "source": [
        "\n",
        "class GradientDescent:\n",
        "    \n",
        "    def __init__(self, learning_rate=.0001, max_iters=1e4, epsilon=1e-8, record_history=False):\n",
        "        self.learning_rate = learning_rate\n",
        "        self.max_iters = max_iters\n",
        "        self.record_history = record_history\n",
        "        self.epsilon = epsilon\n",
        "        if record_history:\n",
        "            self.w_history = []                 #to store the weight history for visualization\n",
        "        self.cost_history=[]\n",
        "            \n",
        "    def run(self, gradient_fn, x, y, w):\n",
        "        grad = np.inf\n",
        "        t = 1\n",
        "        \n",
        "        while np.linalg.norm(grad) > self.epsilon and t < self.max_iters:\n",
        "            grad, cost = gradient_fn(x, y, w)               # compute the gradient with present weight\n",
        "            self.cost_history.append(cost)\n",
        "            w = w - self.learning_rate * grad         # weight update step\n",
        "            if self.record_history:\n",
        "                self.w_history.append(w)\n",
        "            t += 1\n",
        "        return w"
      ],
      "metadata": {
        "id": "bG4G6uTuFCaJ"
      },
      "execution_count": 23,
      "outputs": []
    },
    {
      "cell_type": "code",
      "source": [
        "class StochasticGradientDescent:\n",
        "    \n",
        "    def __init__(self, learning_rate=.0001, max_iters=1e4, epsilon=1e-8, record_history=False):\n",
        "        self.learning_rate = learning_rate\n",
        "        self.max_iters = max_iters\n",
        "        self.record_history = record_history\n",
        "        self.epsilon = epsilon\n",
        "        if record_history:\n",
        "            self.w_history = []                 #to store the weight history for visualization\n",
        "        self.cost_history=[]\n",
        "          \n",
        "    def run(self, gradient_fn, x, y, w, batch):\n",
        "        learning_rate=self.learning_rate\n",
        "        grad = np.inf\n",
        "        t = 1\n",
        "        instance=0\n",
        "        while t < self.max_iters:\n",
        "            grad, cost = gradient_fn(x, y, w, instance)\n",
        "            self.cost_history.append(cost)\n",
        "            w = w - learning_rate * grad         # weight update step\n",
        "            if self.record_history:\n",
        "                self.w_history.append(w)\n",
        "            learning_rate=self.learning_rate/t\n",
        "            instance+=1\n",
        "            if instance==x.shape[0]:\n",
        "              instance=0\n",
        "            t += 1\n",
        "        return w\n",
        "\n",
        "    def create_mini_batches(x, y, batch_size):\n",
        "      mini_batches = []\n",
        "      data = np.hstack((X, y))\n",
        "      np.random.shuffle(data)\n",
        "      n_minibatches = data.shape[0] // batch_size\n",
        "      i = 0\n",
        "  \n",
        "      for i in range(n_minibatches + 1):\n",
        "          mini_batch = data[i * batch_size:(i + 1)*batch_size, :]\n",
        "          X_mini = mini_batch[:, :-1]\n",
        "          Y_mini = mini_batch[:, -1].reshape((-1, 1))\n",
        "          mini_batches.append((X_mini, Y_mini))\n",
        "      if data.shape[0] % batch_size != 0:\n",
        "          mini_batch = data[i * batch_size:data.shape[0]]\n",
        "          X_mini = mini_batch[:, :-1]\n",
        "          Y_mini = mini_batch[:, -1].reshape((-1, 1))\n",
        "          mini_batches.append((X_mini, Y_mini))\n",
        "      return mini_batches"
      ],
      "metadata": {
        "id": "V4xXuZeomM5k"
      },
      "execution_count": null,
      "outputs": []
    },
    {
      "cell_type": "markdown",
      "source": [
        "##Linear Regression"
      ],
      "metadata": {
        "id": "DDUg0W2RYIKU"
      }
    },
    {
      "cell_type": "code",
      "source": [
        "class LinearRegression:\n",
        "  def __init__(self):\n",
        "    ()\n",
        "  \n",
        "  def editData(self):\n",
        "    self.X= np.c_[np.ones((self.X).shape[0]), (self.X)] \n",
        "    return\n",
        "  \n",
        "  def fitClosedForm(self, X, Y):\n",
        "    self.X=X\n",
        "    self.Y=Y\n",
        "    self.editData()\n",
        "    self.w= np.linalg.inv((self.X).T @ (self.X))@ (self.X).T@ (self.Y)\n",
        "    return\n",
        "\n",
        "\n",
        "\n",
        "  def fitGD(self, X, Y, optimizer1):#, optimizer2):\n",
        "      self.X=X\n",
        "      self.Y=Y\n",
        "      self.editData()\n",
        "      self.w=np.zeros((self.X.shape[1], self.Y.shape[1]))\n",
        "      def gradient(x, y, w):                          # define the gradient function\n",
        "          yh =  x @ w \n",
        "          N, D = x.shape\n",
        "          grad = (x.T@ (yh - y))/N\n",
        "          return grad, .5*np.mean((yh - y)**2)\n",
        "      #w0 = np.zeros(self.X.shape[1])                            # initialize the weights \n",
        "      self.w = optimizer1.run(gradient, self.X, self.Y, self.w)      # run the optimizer to get the optimal weights\n",
        "      #self.w[:,1] = optimizer2.run(gradient, self.X, self.Y[:,1], self.w[:,1]) \n",
        "      return\n",
        "\n",
        "  def fitSGD(self, X, Y, optimizer1, optimizer2):\n",
        "      self.X=X\n",
        "      self.Y=Y\n",
        "      self.editData()\n",
        "      self.w=np.zeros((self.X.shape[1], self.Y.shape[1]))\n",
        "      def gradient(x, y, w, instance):                          # define the gradient function\n",
        "          yh =  x @ w\n",
        "          grad = x[instance, :]*(x[instance, :]*w-y[instance])\n",
        "          return grad, .5*np.mean((yh - y)**2)\n",
        "      #w0 = np.zeros(self.X.shape[1])                            # initialize the weights \n",
        "      self.w = optimizer1.run(gradient, self.X, self.Y[:,0], self.w)      # run the optimizer to get the optimal weights\n",
        "      #self.w[:,1] = optimizer2.run(gradient, self.X, self.Y[:,1], self.w[:,1]) \n",
        "      return\n",
        "\n",
        "  def predict(self, Xt):\n",
        "    Xt= np.c_[np.ones((Xt).shape[0]), (Xt)] \n",
        "    return Xt @ self.w\n",
        "  \n",
        "  "
      ],
      "metadata": {
        "id": "tpRIjs7tyTre"
      },
      "execution_count": 57,
      "outputs": []
    },
    {
      "cell_type": "code",
      "source": [
        "plt.figure(figsize=(5,5))\n",
        "sns.pairplot(data=df1, y_vars=['heating_load', 'cooling_load'], x_vars=['relative_compactness', 'surface_area', 'wall_area', 'roof_area', 'overall_height', 'orientation', 'glazing_area', 'glazing_area_distribution'])\n",
        "plt.show()\n",
        "\n",
        "df1.plot(kind='density', subplots=True, layout=(3,4), sharex=False, sharey=False)\n",
        "\n",
        "print(\"Statistical Description:\", df1.describe())\n",
        "print(\"Correlation:\", df1.corr(method='pearson'))"
      ],
      "metadata": {
        "id": "BuuSpq4VWiV6"
      },
      "execution_count": null,
      "outputs": []
    },
    {
      "cell_type": "markdown",
      "source": [
        "##Analytical linear regression"
      ],
      "metadata": {
        "id": "U2IBuEbUzNow"
      }
    },
    {
      "cell_type": "code",
      "source": [
        "#Train test split\n",
        "\n",
        "train=df1.sample(frac=0.8)\n",
        "test=df1.drop(train.index)\n",
        "\n",
        "model1= LinearRegression()\n",
        "\n",
        "X_train= train.iloc[:, :8].to_numpy(copy=True) \n",
        "X_train= X_train/ X_train.max(axis=0)\n",
        "Y_train= train.iloc[:, 8:].to_numpy(copy=True)\n",
        "\n",
        "\n",
        "\n",
        "X_test= test.iloc[:, :8].to_numpy(copy=True)\n",
        "X_test= X_test/ X_test.max(axis=0)\n",
        "Y_test= test.iloc[:, 8:].to_numpy(copy=True)\n",
        "\n"
      ],
      "metadata": {
        "id": "EYH4qAcryVXx"
      },
      "execution_count": 27,
      "outputs": []
    },
    {
      "cell_type": "code",
      "source": [
        "model1.fitClosedForm(X_train, Y_train)\n",
        "Ypredict=model1.predict(X_test)\n",
        "loss=0.5*np.mean((Y_test-Ypredict)**2, axis=0)\n",
        "print(loss)"
      ],
      "metadata": {
        "colab": {
          "base_uri": "https://localhost:8080/"
        },
        "id": "g9Ku2DDDt0z6",
        "outputId": "597405ce-87e3-4e5f-92fa-31e8d94033b0"
      },
      "execution_count": null,
      "outputs": [
        {
          "output_type": "stream",
          "name": "stdout",
          "text": [
            "[8.78039918 9.98770275]\n"
          ]
        }
      ]
    },
    {
      "cell_type": "markdown",
      "source": [
        "## Gradient descent"
      ],
      "metadata": {
        "id": "Y8VFGpC-zhxB"
      }
    },
    {
      "cell_type": "code",
      "source": [
        "optimizer = GradientDescent(learning_rate=.1, max_iters=1e4, record_history=False)\n",
        "model= LinearRegression()\n",
        "model.fitGD(X_train, Y_train, optimizer)"
      ],
      "metadata": {
        "id": "_uoi9IfxEKeM"
      },
      "execution_count": 41,
      "outputs": []
    },
    {
      "cell_type": "code",
      "source": [
        "Ypredict=model.predict(X_test)\n",
        "#print(np.c_[Y_test, Ypredict])\n",
        "loss=0.5*np.mean((Y_test-Ypredict)**2, axis=0)\n",
        "print(loss)"
      ],
      "metadata": {
        "id": "d-wBmN3x1eO3",
        "outputId": "12f3985e-f2ef-4940-e901-beb1ac817dde",
        "colab": {
          "base_uri": "https://localhost:8080/"
        }
      },
      "execution_count": 43,
      "outputs": [
        {
          "output_type": "stream",
          "name": "stdout",
          "text": [
            "[4.18086834 5.30629737]\n"
          ]
        }
      ]
    },
    {
      "cell_type": "code",
      "source": [
        "optimizer1 = StochasticGradientDescent(learning_rate=0.02, max_iters=10000, record_history=False) #2.1e-5\n",
        "optimizer2 = StochasticGradientDescent(learning_rate=0.001, max_iters=10000, record_history=False) #1.5e-6\n",
        "model= LinearRegression()\n",
        "model.fitSGD(X_train, Y_train, optimizer1, optimizer2)"
      ],
      "metadata": {
        "id": "3IUz3W5utSLS",
        "outputId": "1d961830-9273-4999-e42c-5580e68e3622",
        "colab": {
          "base_uri": "https://localhost:8080/",
          "height": 201
        }
      },
      "execution_count": 32,
      "outputs": [
        {
          "output_type": "error",
          "ename": "NameError",
          "evalue": "ignored",
          "traceback": [
            "\u001b[0;31m---------------------------------------------------------------------------\u001b[0m",
            "\u001b[0;31mNameError\u001b[0m                                 Traceback (most recent call last)",
            "\u001b[0;32m<ipython-input-32-f2646dfb7307>\u001b[0m in \u001b[0;36m<module>\u001b[0;34m\u001b[0m\n\u001b[1;32m      2\u001b[0m \u001b[0moptimizer2\u001b[0m \u001b[0;34m=\u001b[0m \u001b[0mStochasticGradientDescent\u001b[0m\u001b[0;34m(\u001b[0m\u001b[0mlearning_rate\u001b[0m\u001b[0;34m=\u001b[0m\u001b[0;36m0.001\u001b[0m\u001b[0;34m,\u001b[0m \u001b[0mmax_iters\u001b[0m\u001b[0;34m=\u001b[0m\u001b[0;36m10000\u001b[0m\u001b[0;34m,\u001b[0m \u001b[0mrecord_history\u001b[0m\u001b[0;34m=\u001b[0m\u001b[0;32mFalse\u001b[0m\u001b[0;34m)\u001b[0m \u001b[0;31m#1.5e-6\u001b[0m\u001b[0;34m\u001b[0m\u001b[0;34m\u001b[0m\u001b[0m\n\u001b[1;32m      3\u001b[0m \u001b[0mmodel\u001b[0m\u001b[0;34m=\u001b[0m \u001b[0mLinearRegression\u001b[0m\u001b[0;34m(\u001b[0m\u001b[0;34m)\u001b[0m\u001b[0;34m\u001b[0m\u001b[0;34m\u001b[0m\u001b[0m\n\u001b[0;32m----> 4\u001b[0;31m \u001b[0mmodel\u001b[0m\u001b[0;34m.\u001b[0m\u001b[0mfitSGD\u001b[0m\u001b[0;34m(\u001b[0m\u001b[0mX_train\u001b[0m\u001b[0;34m,\u001b[0m \u001b[0mY_train\u001b[0m\u001b[0;34m,\u001b[0m \u001b[0moptimizer1\u001b[0m\u001b[0;34m,\u001b[0m \u001b[0moptimizer2\u001b[0m\u001b[0;34m,\u001b[0m \u001b[0mbatch\u001b[0m\u001b[0;34m)\u001b[0m\u001b[0;34m\u001b[0m\u001b[0;34m\u001b[0m\u001b[0m\n\u001b[0m",
            "\u001b[0;31mNameError\u001b[0m: name 'batch' is not defined"
          ]
        }
      ]
    },
    {
      "cell_type": "code",
      "source": [
        "optimizer1 = StochasticGradientDescent(learning_rate=0.02, max_iters=10000, record_history=False) #2.1e-5\n",
        "model= LinearRegression()\n",
        "model.fitSGD1(X_train, Y_train, optimizer1)"
      ],
      "metadata": {
        "id": "ANQmy_-w9iXo",
        "outputId": "c461c720-081d-4930-fc1f-a67fc2b860b7",
        "colab": {
          "base_uri": "https://localhost:8080/",
          "height": 364
        }
      },
      "execution_count": 58,
      "outputs": [
        {
          "output_type": "stream",
          "name": "stdout",
          "text": [
            "(614, 2) (2,) (9, 2)\n"
          ]
        },
        {
          "output_type": "error",
          "ename": "ValueError",
          "evalue": "ignored",
          "traceback": [
            "\u001b[0;31m---------------------------------------------------------------------------\u001b[0m",
            "\u001b[0;31mValueError\u001b[0m                                Traceback (most recent call last)",
            "\u001b[0;32m<ipython-input-58-64b5697ad959>\u001b[0m in \u001b[0;36m<module>\u001b[0;34m\u001b[0m\n\u001b[1;32m      1\u001b[0m \u001b[0moptimizer1\u001b[0m \u001b[0;34m=\u001b[0m \u001b[0mStochasticGradientDescent\u001b[0m\u001b[0;34m(\u001b[0m\u001b[0mlearning_rate\u001b[0m\u001b[0;34m=\u001b[0m\u001b[0;36m0.02\u001b[0m\u001b[0;34m,\u001b[0m \u001b[0mmax_iters\u001b[0m\u001b[0;34m=\u001b[0m\u001b[0;36m10000\u001b[0m\u001b[0;34m,\u001b[0m \u001b[0mrecord_history\u001b[0m\u001b[0;34m=\u001b[0m\u001b[0;32mFalse\u001b[0m\u001b[0;34m)\u001b[0m \u001b[0;31m#2.1e-5\u001b[0m\u001b[0;34m\u001b[0m\u001b[0;34m\u001b[0m\u001b[0m\n\u001b[1;32m      2\u001b[0m \u001b[0mmodel\u001b[0m\u001b[0;34m=\u001b[0m \u001b[0mLinearRegression\u001b[0m\u001b[0;34m(\u001b[0m\u001b[0;34m)\u001b[0m\u001b[0;34m\u001b[0m\u001b[0;34m\u001b[0m\u001b[0m\n\u001b[0;32m----> 3\u001b[0;31m \u001b[0mmodel\u001b[0m\u001b[0;34m.\u001b[0m\u001b[0mfitSGD1\u001b[0m\u001b[0;34m(\u001b[0m\u001b[0mX_train\u001b[0m\u001b[0;34m,\u001b[0m \u001b[0mY_train\u001b[0m\u001b[0;34m,\u001b[0m \u001b[0moptimizer1\u001b[0m\u001b[0;34m)\u001b[0m\u001b[0;34m\u001b[0m\u001b[0;34m\u001b[0m\u001b[0m\n\u001b[0m",
            "\u001b[0;32m<ipython-input-57-a1313bfc4518>\u001b[0m in \u001b[0;36mfitSGD1\u001b[0;34m(self, X, Y, optimizer)\u001b[0m\n\u001b[1;32m     56\u001b[0m           \u001b[0;32mreturn\u001b[0m \u001b[0mgrad\u001b[0m\u001b[0;34m,\u001b[0m \u001b[0;36m.5\u001b[0m\u001b[0;34m*\u001b[0m\u001b[0mnp\u001b[0m\u001b[0;34m.\u001b[0m\u001b[0mmean\u001b[0m\u001b[0;34m(\u001b[0m\u001b[0;34m(\u001b[0m\u001b[0myh\u001b[0m \u001b[0;34m-\u001b[0m \u001b[0my\u001b[0m\u001b[0;34m)\u001b[0m\u001b[0;34m**\u001b[0m\u001b[0;36m2\u001b[0m\u001b[0;34m)\u001b[0m\u001b[0;34m\u001b[0m\u001b[0;34m\u001b[0m\u001b[0m\n\u001b[1;32m     57\u001b[0m       \u001b[0;31m#w0 = np.zeros(self.X.shape[1])                            # initialize the weights\u001b[0m\u001b[0;34m\u001b[0m\u001b[0;34m\u001b[0m\u001b[0;34m\u001b[0m\u001b[0m\n\u001b[0;32m---> 58\u001b[0;31m       \u001b[0mself\u001b[0m\u001b[0;34m.\u001b[0m\u001b[0mw\u001b[0m \u001b[0;34m=\u001b[0m \u001b[0moptimizer1\u001b[0m\u001b[0;34m.\u001b[0m\u001b[0mrun\u001b[0m\u001b[0;34m(\u001b[0m\u001b[0mgradient\u001b[0m\u001b[0;34m,\u001b[0m \u001b[0mself\u001b[0m\u001b[0;34m.\u001b[0m\u001b[0mX\u001b[0m\u001b[0;34m,\u001b[0m \u001b[0mself\u001b[0m\u001b[0;34m.\u001b[0m\u001b[0mY\u001b[0m\u001b[0;34m,\u001b[0m \u001b[0mself\u001b[0m\u001b[0;34m.\u001b[0m\u001b[0mw\u001b[0m\u001b[0;34m)\u001b[0m      \u001b[0;31m# run the optimizer to get the optimal weights\u001b[0m\u001b[0;34m\u001b[0m\u001b[0;34m\u001b[0m\u001b[0m\n\u001b[0m\u001b[1;32m     59\u001b[0m       \u001b[0;31m#self.w[:,1] = optimizer2.run(gradient, self.X, self.Y[:,1], self.w[:,1])\u001b[0m\u001b[0;34m\u001b[0m\u001b[0;34m\u001b[0m\u001b[0;34m\u001b[0m\u001b[0m\n\u001b[1;32m     60\u001b[0m       \u001b[0;32mreturn\u001b[0m\u001b[0;34m\u001b[0m\u001b[0;34m\u001b[0m\u001b[0m\n",
            "\u001b[0;32m<ipython-input-7-f4943c3be70b>\u001b[0m in \u001b[0;36mrun\u001b[0;34m(self, gradient_fn, x, y, w)\u001b[0m\n\u001b[1;32m     16\u001b[0m         \u001b[0minstance\u001b[0m\u001b[0;34m=\u001b[0m\u001b[0;36m0\u001b[0m\u001b[0;34m\u001b[0m\u001b[0;34m\u001b[0m\u001b[0m\n\u001b[1;32m     17\u001b[0m         \u001b[0;32mwhile\u001b[0m \u001b[0mt\u001b[0m \u001b[0;34m<\u001b[0m \u001b[0mself\u001b[0m\u001b[0;34m.\u001b[0m\u001b[0mmax_iters\u001b[0m\u001b[0;34m:\u001b[0m\u001b[0;34m\u001b[0m\u001b[0;34m\u001b[0m\u001b[0m\n\u001b[0;32m---> 18\u001b[0;31m             \u001b[0mgrad\u001b[0m\u001b[0;34m,\u001b[0m \u001b[0mcost\u001b[0m \u001b[0;34m=\u001b[0m \u001b[0mgradient_fn\u001b[0m\u001b[0;34m(\u001b[0m\u001b[0mx\u001b[0m\u001b[0;34m,\u001b[0m \u001b[0my\u001b[0m\u001b[0;34m,\u001b[0m \u001b[0mw\u001b[0m\u001b[0;34m,\u001b[0m \u001b[0minstance\u001b[0m\u001b[0;34m)\u001b[0m\u001b[0;34m\u001b[0m\u001b[0;34m\u001b[0m\u001b[0m\n\u001b[0m\u001b[1;32m     19\u001b[0m             \u001b[0mself\u001b[0m\u001b[0;34m.\u001b[0m\u001b[0mcost_history\u001b[0m\u001b[0;34m.\u001b[0m\u001b[0mappend\u001b[0m\u001b[0;34m(\u001b[0m\u001b[0mcost\u001b[0m\u001b[0;34m)\u001b[0m\u001b[0;34m\u001b[0m\u001b[0;34m\u001b[0m\u001b[0m\n\u001b[1;32m     20\u001b[0m             \u001b[0mw\u001b[0m \u001b[0;34m=\u001b[0m \u001b[0mw\u001b[0m \u001b[0;34m-\u001b[0m \u001b[0mlearning_rate\u001b[0m \u001b[0;34m*\u001b[0m \u001b[0mgrad\u001b[0m         \u001b[0;31m# weight update step\u001b[0m\u001b[0;34m\u001b[0m\u001b[0;34m\u001b[0m\u001b[0m\n",
            "\u001b[0;32m<ipython-input-57-a1313bfc4518>\u001b[0m in \u001b[0;36mgradient\u001b[0;34m(x, y, w, instance)\u001b[0m\n\u001b[1;32m     53\u001b[0m           \u001b[0myh\u001b[0m \u001b[0;34m=\u001b[0m  \u001b[0mx\u001b[0m \u001b[0;34m@\u001b[0m \u001b[0mw\u001b[0m\u001b[0;34m\u001b[0m\u001b[0;34m\u001b[0m\u001b[0m\n\u001b[1;32m     54\u001b[0m           \u001b[0mprint\u001b[0m\u001b[0;34m(\u001b[0m\u001b[0myh\u001b[0m\u001b[0;34m.\u001b[0m\u001b[0mshape\u001b[0m\u001b[0;34m,\u001b[0m \u001b[0;34m(\u001b[0m\u001b[0mw\u001b[0m\u001b[0;34m.\u001b[0m\u001b[0mT\u001b[0m\u001b[0;34m@\u001b[0m\u001b[0mx\u001b[0m\u001b[0;34m[\u001b[0m\u001b[0minstance\u001b[0m\u001b[0;34m,\u001b[0m \u001b[0;34m:\u001b[0m\u001b[0;34m]\u001b[0m\u001b[0;34m)\u001b[0m\u001b[0;34m.\u001b[0m\u001b[0mshape\u001b[0m\u001b[0;34m,\u001b[0m \u001b[0mw\u001b[0m\u001b[0;34m.\u001b[0m\u001b[0mshape\u001b[0m\u001b[0;34m)\u001b[0m\u001b[0;34m\u001b[0m\u001b[0;34m\u001b[0m\u001b[0m\n\u001b[0;32m---> 55\u001b[0;31m           \u001b[0mgrad\u001b[0m \u001b[0;34m=\u001b[0m \u001b[0mx\u001b[0m\u001b[0;34m[\u001b[0m\u001b[0minstance\u001b[0m\u001b[0;34m,\u001b[0m \u001b[0;34m:\u001b[0m\u001b[0;34m]\u001b[0m\u001b[0;34m*\u001b[0m\u001b[0;34m(\u001b[0m\u001b[0;34m(\u001b[0m\u001b[0mw\u001b[0m\u001b[0;34m.\u001b[0m\u001b[0mT\u001b[0m\u001b[0;34m@\u001b[0m\u001b[0mx\u001b[0m\u001b[0;34m[\u001b[0m\u001b[0minstance\u001b[0m\u001b[0;34m,\u001b[0m \u001b[0;34m:\u001b[0m\u001b[0;34m]\u001b[0m\u001b[0;34m)\u001b[0m\u001b[0;34m-\u001b[0m\u001b[0my\u001b[0m\u001b[0;34m[\u001b[0m\u001b[0minstance\u001b[0m\u001b[0;34m,\u001b[0m \u001b[0;34m:\u001b[0m\u001b[0;34m]\u001b[0m\u001b[0;34m)\u001b[0m\u001b[0;34m\u001b[0m\u001b[0;34m\u001b[0m\u001b[0m\n\u001b[0m\u001b[1;32m     56\u001b[0m           \u001b[0;32mreturn\u001b[0m \u001b[0mgrad\u001b[0m\u001b[0;34m,\u001b[0m \u001b[0;36m.5\u001b[0m\u001b[0;34m*\u001b[0m\u001b[0mnp\u001b[0m\u001b[0;34m.\u001b[0m\u001b[0mmean\u001b[0m\u001b[0;34m(\u001b[0m\u001b[0;34m(\u001b[0m\u001b[0myh\u001b[0m \u001b[0;34m-\u001b[0m \u001b[0my\u001b[0m\u001b[0;34m)\u001b[0m\u001b[0;34m**\u001b[0m\u001b[0;36m2\u001b[0m\u001b[0;34m)\u001b[0m\u001b[0;34m\u001b[0m\u001b[0;34m\u001b[0m\u001b[0m\n\u001b[1;32m     57\u001b[0m       \u001b[0;31m#w0 = np.zeros(self.X.shape[1])                            # initialize the weights\u001b[0m\u001b[0;34m\u001b[0m\u001b[0;34m\u001b[0m\u001b[0;34m\u001b[0m\u001b[0m\n",
            "\u001b[0;31mValueError\u001b[0m: operands could not be broadcast together with shapes (9,) (2,) "
          ]
        }
      ]
    },
    {
      "cell_type": "code",
      "source": [
        "Ypredict=model.predict(X_test)\n",
        "#print(np.c_[Y_test, Ypredict])\n",
        "loss=0.5*np.mean((Y_test-Ypredict)**2, axis=0)\n",
        "print(loss)"
      ],
      "metadata": {
        "colab": {
          "base_uri": "https://localhost:8080/"
        },
        "id": "pnfdLo2qtWnF",
        "outputId": "5ea0b684-dee8-4e85-e4d5-509e4888f4eb"
      },
      "execution_count": null,
      "outputs": [
        {
          "output_type": "stream",
          "name": "stdout",
          "text": [
            "[ 47.74175746 313.9168289 ]\n"
          ]
        }
      ]
    },
    {
      "cell_type": "code",
      "source": [
        "print(np.c_[Y_test, Ypredict])"
      ],
      "metadata": {
        "id": "h6y2LYxMzGxn",
        "outputId": "39e67006-3d88-40eb-f5af-a56b697daeae",
        "colab": {
          "base_uri": "https://localhost:8080/"
        }
      },
      "execution_count": null,
      "outputs": [
        {
          "output_type": "stream",
          "name": "stdout",
          "text": [
            "[[15.55       21.33       20.02605616  1.17934332]\n",
            " [21.46       25.38       20.94598219  1.23318619]\n",
            " [18.31       27.87       22.27562794  1.31107793]\n",
            " [17.05       23.77       20.60237293  1.21399144]\n",
            " [16.95       21.16       21.83125545  1.28533666]\n",
            " [23.93       29.68       21.70385038  1.27743733]\n",
            " [24.77       29.79       22.31829164  1.31310994]\n",
            " [23.93       29.4        22.9327329   1.34878255]\n",
            " [ 6.05       11.19       19.66736562  1.16244686]\n",
            " [ 6.4        11.72       19.87623095  1.17464109]\n",
            " [ 6.77       11.73       20.7383341   1.22477082]\n",
            " [ 7.1        12.23       20.33275817  1.20129244]\n",
            " [ 7.1        12.4        20.94719943  1.23696505]\n",
            " [26.37       27.03       22.88695664  1.34479705]\n",
            " [23.54       24.61       23.0570254   1.35472839]\n",
            " [35.56       41.68       22.03700822  1.2955774 ]\n",
            " [32.21       33.67       24.15850285  1.41817428]\n",
            " [11.09       14.3        21.96410405  1.29416255]\n",
            " [11.16       14.45       22.57854531  1.32983516]\n",
            " [11.7        13.88       22.17296938  1.30635678]\n",
            " [15.42       19.34       22.42063127  1.3208139 ]\n",
            " [12.93       14.33       22.66829317  1.33527102]\n",
            " [24.29       25.95       21.75344899  1.2770169 ]\n",
            " [29.68       29.44       22.67337502  1.33085978]\n",
            " [37.26       34.62       23.15307235  1.35953186]\n",
            " [36.03       42.86       24.38195486  1.43087708]\n",
            " [33.16       33.91       22.81680195  1.33943831]\n",
            " [33.12       34.17       24.04568447  1.41078352]\n",
            " [10.45       13.79       22.62364096  1.33146566]\n",
            " [10.72       14.11       21.60362378  1.27231467]\n",
            " [15.34       19.32       22.92225415  1.34909575]\n",
            " [12.97       14.27       23.16991604  1.36355287]\n",
            " [28.07       34.14       22.56055663  1.32346902]\n",
            " [29.62       30.08       23.78943915  1.39481424]\n",
            " [25.41       31.73       22.66131987  1.33001554]\n",
            " [32.52       33.85       23.31842483  1.36772016]\n",
            " [10.38       13.49       23.12526384  1.35974751]\n",
            " [10.77       14.14       21.49080539  1.26492391]\n",
            " [10.68       14.3        22.71968791  1.33626913]\n",
            " [11.59       13.46       21.94733261  1.29157526]\n",
            " [15.36       19.18       22.80943576  1.34170499]\n",
            " [12.63       14.23       23.05709766  1.35616211]\n",
            " [24.23       25.72       23.371136    1.36925321]\n",
            " [27.03       25.81       25.00626651  1.46531522]\n",
            " [24.24       25.16       25.17633528  1.47524656]\n",
            " [36.86       34.25       23.54187684  1.38042296]\n",
            " [32.38       33.62       24.43448896  1.43167462]\n",
            " [33.09       33.89       25.04893022  1.46734723]\n",
            " [10.15       13.36       22.3980042   1.31668414]\n",
            " [10.53       13.79       23.22131078  1.36455098]\n",
            " [24.26       26.18       25.10164139  1.46888029]\n",
            " [27.03       25.82       23.66456562  1.38657924]\n",
            " [25.36       32.04       24.89344813  1.45792446]\n",
            " [32.31       34.25       24.32167058  1.42428386]\n",
            " [32.46       33.64       25.55055309  1.49562908]\n",
            " [12.59       14.24       23.44590215  1.37705321]\n",
            " [12.8        13.99       24.67478466  1.44839843]\n",
            " [29.54       33.98       22.74429474  1.33511665]\n",
            " [28.66       34.73       24.58761852  1.44213448]\n",
            " [26.19       31.39       24.75768728  1.45206582]\n",
            " [38.67       43.8        23.12322884  1.35724222]\n",
            " [12.43       15.19       21.36491494  1.2578308 ]\n",
            " [12.5        15.5        21.9793562   1.29350341]\n",
            " [13.18       16.19       23.87363126  1.40369421]\n",
            " [17.5        21.13       22.27796938  1.3111335 ]\n",
            " [17.52       21.09       23.5068519   1.38247872]\n",
            " [28.57       29.69       23.45411087  1.37435433]\n",
            " [28.6        30.02       24.68299339  1.44569955]\n",
            " [25.74       28.27       23.41598639  1.37332984]\n",
            " [25.38       26.72       24.6448689   1.44467506]\n",
            " [40.19       37.41       24.23929297  1.42119668]\n",
            " [38.98       45.97       25.46817549  1.4925419 ]\n",
            " [12.45       15.1        22.48097907  1.32178526]\n",
            " [12.3        15.44       23.70986159  1.39313048]\n",
            " [12.85       15.52       22.32306503  1.312764  ]\n",
            " [16.84       20.56       23.39403351  1.37508796]\n",
            " [14.66       15.64       23.6416954   1.38954508]\n",
            " [32.68       32.83       24.87565977  1.45647906]\n",
            " [32.29       32.46       25.49010103  1.49215167]\n",
            " [39.04       45.13       24.12647459  1.41380592]\n",
            " [12.03       13.79       22.98260194  1.35006711]\n",
            " [12.41       14.92       22.57702602  1.32658873]\n",
            " [12.46       14.38       23.43912917  1.37671846]\n",
            " [12.12       15.17       24.66801168  1.44806368]\n",
            " [13.01       15.8        23.6479945   1.38891269]\n",
            " [12.84       16.26       24.87687701  1.46025791]\n",
            " [16.66       20.46       24.51009764  1.43904242]\n",
            " [13.99       14.35       25.37220079  1.48917215]\n",
            " [28.62       30.12       25.68623914  1.50226325]\n",
            " [32.07       36.16       25.37728265  1.48476091]\n",
            " [36.26       37.51       26.7495921   1.56468466]\n",
            " [12.32       14.92       22.86978356  1.34267635]\n",
            " [12.43       15.35       24.71310733  1.44969418]\n",
            " [12.91       15.37       23.32631078  1.3693277 ]\n",
            " [12.86       16.13       25.16963455  1.47634553]\n",
            " [16.62       19.9        25.62616177  1.50299688]\n",
            " [28.58       29.77       24.95897949  1.45919988]\n",
            " [31.53       37.19       25.87890552  1.51304276]\n",
            " [25.17       26.08       25.53529626  1.49384801]\n",
            " [12.12       14.48       23.37140643  1.3709582 ]\n",
            " [11.67       14.58       23.98584769  1.40663081]\n",
            " [11.64       14.81       24.60028895  1.44230342]\n",
            " [12.47       14.6        25.67125743  1.50462738]\n",
            " [12.82       16.03       24.65124024  1.44547639]\n",
            " [12.78       15.8        25.2656815   1.481149  ]\n",
            " [16.86       20.01       24.89890213  1.45993352]\n",
            " [13.68       15.19       24.53212277  1.43871803]\n",
            " [36.66       35.92       24.95863465  1.46158017]\n",
            " [29.53       28.99       25.22946665  1.47805803]\n",
            " [28.65       33.54       25.84390791  1.51373064]\n",
            " [42.5        38.35       25.43833198  1.49025226]\n",
            " [41.67       46.94       26.05277324  1.52592487]\n",
            " [19.36       22.73       23.97863126  1.40847093]\n",
            " [19.42       22.53       25.20751378  1.47981614]\n",
            " [17.17       17.21       24.22629315  1.42292805]\n",
            " [35.84       38.35       24.23137501  1.4185168 ]\n",
            " [41.64       45.59       24.71107234  1.44718889]\n",
            " [42.74       38.84       25.93995485  1.51853411]\n",
            " [40.78       39.48       24.9892432   1.46276794]\n",
            " [40.57       40.47       26.21812571  1.53411316]\n",
            " [14.54       16.43       22.95275844  1.34777747]\n",
            " [14.45       16.93       23.56719969  1.38345008]\n",
            " [14.7        16.77       23.16162377  1.3599717 ]\n",
            " [14.75       16.44       23.40928566  1.37442882]\n",
            " [14.33       17.23       24.63816817  1.44577404]\n",
            " [19.2        21.72       23.86581288  1.40108017]\n",
            " [16.76       17.36       24.11347477  1.41553729]\n",
            " [35.05       33.82       25.96188039  1.51814388]\n",
            " [32.05       30.11       26.06264363  1.52469039]\n",
            " [29.47       29.77       26.2327124   1.53462173]\n",
            " [42.49       38.81       26.44157773  1.54681596]\n",
            " [14.33       16.99       25.13979105  1.47405589]\n",
            " [14.72       18.1        25.34865638  1.48625012]\n",
            " [18.46       21.53       26.21075952  1.53637985]\n",
            " [16.55       16.56       25.84398016  1.51516436]\n",
            " [36.45       33.98       25.23462075  1.47508051]\n",
            " [32.75       31.         27.17870776  1.58864485]\n",
            " [28.05       32.35       26.11989401  1.52723097]\n",
            " [42.96       39.56       27.55764186  1.61077042]\n",
            " [35.01       33.14       26.35068488  1.53903497]\n",
            " [31.81       31.2        26.45144812  1.54558149]\n",
            " [31.12       36.26       27.06588938  1.5812541 ]\n",
            " [29.92       32.54       27.8503994   1.62685804]\n",
            " [42.11       38.56       26.21594096  1.53203445]\n",
            " [39.31       37.79       27.72299434  1.61895872]\n",
            " [39.86       38.18       28.33743559  1.65463133]\n",
            " [14.17       16.94       25.68650957  1.50396824]\n",
            " [12.43       15.59       24.66649239  1.44481725]\n",
            " [12.63       14.58       25.28093364  1.48048986]\n",
            " [14.28       15.87       25.52859554  1.49494698]\n",
            " [14.21       16.74       26.75747805  1.5662922 ]\n",
            " [14.92       17.79       25.73746087  1.50714121]\n",
            " [16.48       16.61       26.84722591  1.57172806]\n",
            " [16.64       16.03       27.46166716  1.60740067]]\n"
          ]
        }
      ]
    },
    {
      "cell_type": "code",
      "source": [
        "import matplotlib.pyplot as plt\n",
        "plt.plot(np.arange(len(optimizer1.cost_history)), optimizer1.cost_history, '.')\n",
        "plt.show()\n",
        "plt.plot(np.arange(len(optimizer2.cost_history)), optimizer2.cost_history, '.')\n",
        "plt.show()"
      ],
      "metadata": {
        "id": "eg2SpJXK2mRS",
        "outputId": "b9589266-7705-4976-a77c-dd9229799a1b",
        "colab": {
          "base_uri": "https://localhost:8080/",
          "height": 516
        }
      },
      "execution_count": null,
      "outputs": [
        {
          "output_type": "display_data",
          "data": {
            "text/plain": [
              "<Figure size 432x288 with 1 Axes>"
            ],
            "image/png": "[encoded data removed]"
          },
          "metadata": {
            "needs_background": "light"
          }
        },
        {
          "output_type": "display_data",
          "data": {
            "text/plain": [
              "<Figure size 432x288 with 1 Axes>"
            ],
            "image/png": "[encoded data removed]"
          },
          "metadata": {
            "needs_background": "light"
          }
        }
      ]
    },
    {
      "cell_type": "code",
      "source": [
        "loss = lambda y, yh: 0.5*np.mean((y-yh)**2)\n",
        "num_folds = 5\n",
        "model = LinearRegression()\n",
        "learning_rates=[0.01, 0.03, 0.05, 0.1, 0.3]\n",
        "err_test, err_valid = np.zeros(len(learning_rates)), np.zeros((len(learning_rates), num_folds))\n",
        "for i, K in enumerate(learning_rates):\n",
        "    #Find the validation errors for num_folds splits for a given K\n",
        "    for f, (tr, val) in enumerate(cross_validate(X_train.shape[0], num_folds)):\n",
        "        optimizer1 = GradientDescent(learning_rate=K, max_iters=1e4, record_history=False)\n",
        "        optimizer2 = GradientDescent(learning_rate=K, max_iters=1e4, record_history=False)\n",
        "        #print(X_train.shape, X_train[tr, :].shape, Y_train.shape, Y_train[tr, :].shape)\n",
        "        params = model.fitGD(X_train[tr, :], Y_train[tr, :], optimizer1, optimizer2)\n",
        "        err_valid[i, f] = loss(Y_train[val], model.predict(X_train[val]))\n",
        "    #this is the part that we don't do in a usual setup. We don't touch the test set until the very end. \n",
        "    params = model.fitGD(X_train[tr], Y_train[tr], optimizer1, optimizer2)\n",
        "    err_test[i]= loss(Y_test, model.predict(X_test))\n",
        "    \n",
        "plt.plot(learning_rates, err_test,  label='test')\n",
        "plt.errorbar(learning_rates, np.mean(err_valid, axis=1), np.std(err_valid, axis=1), label='validation')\n",
        "plt.legend()\n",
        "plt.xlabel('Learning Rate)')\n",
        "plt.ylabel('mean squared error')\n",
        "plt.show()"
      ],
      "metadata": {
        "colab": {
          "base_uri": "https://localhost:8080/",
          "height": 281
        },
        "id": "YumGWi-wwIJR",
        "outputId": "3b5101bd-4c57-4fcf-b9ad-faffa3144d42"
      },
      "execution_count": null,
      "outputs": [
        {
          "output_type": "display_data",
          "data": {
            "text/plain": [
              "<Figure size 432x288 with 1 Axes>"
            ],
            "image/png": "[encoded data removed]"
          },
          "metadata": {
            "needs_background": "light"
          }
        }
      ]
    },
    {
      "cell_type": "markdown",
      "source": [
        "##Confusion matrix"
      ],
      "metadata": {
        "id": "EymWeqeg4orf"
      }
    },
    {
      "cell_type": "code",
      "metadata": {
        "id": "6mwbkN--9i_-"
      },
      "source": [
        "def confusion_matrix(y, yh):\n",
        "    n_classes = np.max(y) + 1\n",
        "    c_matrix = np.zeros((n_classes, n_classes))\n",
        "    for c1 in range(n_classes):\n",
        "        for c2 in range(n_classes):\n",
        "            #(y==c1)*(yh==c2) is 1 when both conditions are true or 0\n",
        "            c_matrix[c1, c2] = np.sum((y==c1)*(yh==c2))\n",
        "    return c_matrix\n",
        "\n"
      ],
      "execution_count": null,
      "outputs": []
    },
    {
      "cell_type": "markdown",
      "source": [
        "## Logistic Regression"
      ],
      "metadata": {
        "id": "8RwtrfKrzm1s"
      }
    },
    {
      "cell_type": "code",
      "source": [
        "df2.head()"
      ],
      "metadata": {
        "id": "HwPPEDnS1M5N",
        "outputId": "e74dbd42-fd20-4c4a-b511-7eb28a7adf2c",
        "colab": {
          "base_uri": "https://localhost:8080/",
          "height": 206
        }
      },
      "execution_count": null,
      "outputs": [
        {
          "output_type": "execute_result",
          "data": {
            "text/plain": [
              "   0  1  2  3  4  5   6\n",
              "0  P  P  A  A  A  P  NB\n",
              "1  N  N  A  A  A  N  NB\n",
              "2  A  A  A  A  A  A  NB\n",
              "3  P  P  P  P  P  P  NB\n",
              "4  N  N  P  P  P  N  NB"
            ],
            "text/html": [
              "\n",
              "  <div id=\"df-14487a94-f7cc-4179-9562-2538c16b12ea\">\n",
              "    <div class=\"colab-df-container\">\n",
              "      <div>\n",
              "<style scoped>\n",
              "    .dataframe tbody tr th:only-of-type {\n",
              "        vertical-align: middle;\n",
              "    }\n",
              "\n",
              "    .dataframe tbody tr th {\n",
              "        vertical-align: top;\n",
              "    }\n",
              "\n",
              "    .dataframe thead th {\n",
              "        text-align: right;\n",
              "    }\n",
              "</style>\n",
              "<table border=\"1\" class=\"dataframe\">\n",
              "  <thead>\n",
              "    <tr style=\"text-align: right;\">\n",
              "      <th></th>\n",
              "      <th>0</th>\n",
              "      <th>1</th>\n",
              "      <th>2</th>\n",
              "      <th>3</th>\n",
              "      <th>4</th>\n",
              "      <th>5</th>\n",
              "      <th>6</th>\n",
              "    </tr>\n",
              "  </thead>\n",
              "  <tbody>\n",
              "    <tr>\n",
              "      <th>0</th>\n",
              "      <td>P</td>\n",
              "      <td>P</td>\n",
              "      <td>A</td>\n",
              "      <td>A</td>\n",
              "      <td>A</td>\n",
              "      <td>P</td>\n",
              "      <td>NB</td>\n",
              "    </tr>\n",
              "    <tr>\n",
              "      <th>1</th>\n",
              "      <td>N</td>\n",
              "      <td>N</td>\n",
              "      <td>A</td>\n",
              "      <td>A</td>\n",
              "      <td>A</td>\n",
              "      <td>N</td>\n",
              "      <td>NB</td>\n",
              "    </tr>\n",
              "    <tr>\n",
              "      <th>2</th>\n",
              "      <td>A</td>\n",
              "      <td>A</td>\n",
              "      <td>A</td>\n",
              "      <td>A</td>\n",
              "      <td>A</td>\n",
              "      <td>A</td>\n",
              "      <td>NB</td>\n",
              "    </tr>\n",
              "    <tr>\n",
              "      <th>3</th>\n",
              "      <td>P</td>\n",
              "      <td>P</td>\n",
              "      <td>P</td>\n",
              "      <td>P</td>\n",
              "      <td>P</td>\n",
              "      <td>P</td>\n",
              "      <td>NB</td>\n",
              "    </tr>\n",
              "    <tr>\n",
              "      <th>4</th>\n",
              "      <td>N</td>\n",
              "      <td>N</td>\n",
              "      <td>P</td>\n",
              "      <td>P</td>\n",
              "      <td>P</td>\n",
              "      <td>N</td>\n",
              "      <td>NB</td>\n",
              "    </tr>\n",
              "  </tbody>\n",
              "</table>\n",
              "</div>\n",
              "      <button class=\"colab-df-convert\" onclick=\"convertToInteractive('df-14487a94-f7cc-4179-9562-2538c16b12ea')\"\n",
              "              title=\"Convert this dataframe to an interactive table.\"\n",
              "              style=\"display:none;\">\n",
              "        \n",
              "  <svg xmlns=\"http://www.w3.org/2000/svg\" height=\"24px\"viewBox=\"0 0 24 24\"\n",
              "       width=\"24px\">\n",
              "    <path d=\"M0 0h24v24H0V0z\" fill=\"none\"/>\n",
              "    <path d=\"M18.56 5.44l.94 2.06.94-2.06 2.06-.94-2.06-.94-.94-2.06-.94 2.06-2.06.94zm-11 1L8.5 8.5l.94-2.06 2.06-.94-2.06-.94L8.5 2.5l-.94 2.06-2.06.94zm10 10l.94 2.06.94-2.06 2.06-.94-2.06-.94-.94-2.06-.94 2.06-2.06.94z\"/><path d=\"M17.41 7.96l-1.37-1.37c-.4-.4-.92-.59-1.43-.59-.52 0-1.04.2-1.43.59L10.3 9.45l-7.72 7.72c-.78.78-.78 2.05 0 2.83L4 21.41c.39.39.9.59 1.41.59.51 0 1.02-.2 1.41-.59l7.78-7.78 2.81-2.81c.8-.78.8-2.07 0-2.86zM5.41 20L4 18.59l7.72-7.72 1.47 1.35L5.41 20z\"/>\n",
              "  </svg>\n",
              "      </button>\n",
              "      \n",
              "  <style>\n",
              "    .colab-df-container {\n",
              "      display:flex;\n",
              "      flex-wrap:wrap;\n",
              "      gap: 12px;\n",
              "    }\n",
              "\n",
              "    .colab-df-convert {\n",
              "      background-color: #E8F0FE;\n",
              "      border: none;\n",
              "      border-radius: 50%;\n",
              "      cursor: pointer;\n",
              "      display: none;\n",
              "      fill: #1967D2;\n",
              "      height: 32px;\n",
              "      padding: 0 0 0 0;\n",
              "      width: 32px;\n",
              "    }\n",
              "\n",
              "    .colab-df-convert:hover {\n",
              "      background-color: #E2EBFA;\n",
              "      box-shadow: 0px 1px 2px rgba(60, 64, 67, 0.3), 0px 1px 3px 1px rgba(60, 64, 67, 0.15);\n",
              "      fill: #174EA6;\n",
              "    }\n",
              "\n",
              "    [theme=dark] .colab-df-convert {\n",
              "      background-color: #3B4455;\n",
              "      fill: #D2E3FC;\n",
              "    }\n",
              "\n",
              "    [theme=dark] .colab-df-convert:hover {\n",
              "      background-color: #434B5C;\n",
              "      box-shadow: 0px 1px 3px 1px rgba(0, 0, 0, 0.15);\n",
              "      filter: drop-shadow(0px 1px 2px rgba(0, 0, 0, 0.3));\n",
              "      fill: #FFFFFF;\n",
              "    }\n",
              "  </style>\n",
              "\n",
              "      <script>\n",
              "        const buttonEl =\n",
              "          document.querySelector('#df-14487a94-f7cc-4179-9562-2538c16b12ea button.colab-df-convert');\n",
              "        buttonEl.style.display =\n",
              "          google.colab.kernel.accessAllowed ? 'block' : 'none';\n",
              "\n",
              "        async function convertToInteractive(key) {\n",
              "          const element = document.querySelector('#df-14487a94-f7cc-4179-9562-2538c16b12ea');\n",
              "          const dataTable =\n",
              "            await google.colab.kernel.invokeFunction('convertToInteractive',\n",
              "                                                     [key], {});\n",
              "          if (!dataTable) return;\n",
              "\n",
              "          const docLinkHtml = 'Like what you see? Visit the ' +\n",
              "            '<a target=\"_blank\" href=https://colab.research.google.com/notebooks/data_table.ipynb>data table notebook</a>'\n",
              "            + ' to learn more about interactive tables.';\n",
              "          element.innerHTML = '';\n",
              "          dataTable['output_type'] = 'display_data';\n",
              "          await google.colab.output.renderOutput(dataTable, element);\n",
              "          const docLink = document.createElement('div');\n",
              "          docLink.innerHTML = docLinkHtml;\n",
              "          element.appendChild(docLink);\n",
              "        }\n",
              "      </script>\n",
              "    </div>\n",
              "  </div>\n",
              "  "
            ]
          },
          "metadata": {},
          "execution_count": 16
        }
      ]
    },
    {
      "cell_type": "code",
      "source": [
        "check_nan = df2.isnull().values.any()\n",
        "print(check_nan)"
      ],
      "metadata": {
        "id": "-bddP5hT2PGO",
        "outputId": "3a682e13-78c0-4f49-e0a7-928146825b92",
        "colab": {
          "base_uri": "https://localhost:8080/"
        }
      },
      "execution_count": null,
      "outputs": [
        {
          "output_type": "stream",
          "name": "stdout",
          "text": [
            "False\n"
          ]
        }
      ]
    },
    {
      "cell_type": "code",
      "source": [
        "## One-hot encoding for categorical data\n",
        "data2= df2.copy(deep=True)\n",
        "data2[6].replace(['NB', 'B'], [0, 1], inplace=True)\n",
        "for i in range(6):\n",
        "  data2[i].replace(['N', 'A', 'P'], [-1, 0, 1], inplace=True)\n",
        "data2.head()"
      ],
      "metadata": {
        "id": "2HtmpZDRzmO2",
        "outputId": "2a8e41f8-d614-407d-c083-4bfa9ac43a77",
        "colab": {
          "base_uri": "https://localhost:8080/",
          "height": 206
        }
      },
      "execution_count": null,
      "outputs": [
        {
          "output_type": "execute_result",
          "data": {
            "text/plain": [
              "   0  1  2  3  4  5  6\n",
              "0  1  1  0  0  0  1  0\n",
              "1 -1 -1  0  0  0 -1  0\n",
              "2  0  0  0  0  0  0  0\n",
              "3  1  1  1  1  1  1  0\n",
              "4 -1 -1  1  1  1 -1  0"
            ],
            "text/html": [
              "\n",
              "  <div id=\"df-d432dc48-fd5a-4d36-93e3-d2fb094c20d2\">\n",
              "    <div class=\"colab-df-container\">\n",
              "      <div>\n",
              "<style scoped>\n",
              "    .dataframe tbody tr th:only-of-type {\n",
              "        vertical-align: middle;\n",
              "    }\n",
              "\n",
              "    .dataframe tbody tr th {\n",
              "        vertical-align: top;\n",
              "    }\n",
              "\n",
              "    .dataframe thead th {\n",
              "        text-align: right;\n",
              "    }\n",
              "</style>\n",
              "<table border=\"1\" class=\"dataframe\">\n",
              "  <thead>\n",
              "    <tr style=\"text-align: right;\">\n",
              "      <th></th>\n",
              "      <th>0</th>\n",
              "      <th>1</th>\n",
              "      <th>2</th>\n",
              "      <th>3</th>\n",
              "      <th>4</th>\n",
              "      <th>5</th>\n",
              "      <th>6</th>\n",
              "    </tr>\n",
              "  </thead>\n",
              "  <tbody>\n",
              "    <tr>\n",
              "      <th>0</th>\n",
              "      <td>1</td>\n",
              "      <td>1</td>\n",
              "      <td>0</td>\n",
              "      <td>0</td>\n",
              "      <td>0</td>\n",
              "      <td>1</td>\n",
              "      <td>0</td>\n",
              "    </tr>\n",
              "    <tr>\n",
              "      <th>1</th>\n",
              "      <td>-1</td>\n",
              "      <td>-1</td>\n",
              "      <td>0</td>\n",
              "      <td>0</td>\n",
              "      <td>0</td>\n",
              "      <td>-1</td>\n",
              "      <td>0</td>\n",
              "    </tr>\n",
              "    <tr>\n",
              "      <th>2</th>\n",
              "      <td>0</td>\n",
              "      <td>0</td>\n",
              "      <td>0</td>\n",
              "      <td>0</td>\n",
              "      <td>0</td>\n",
              "      <td>0</td>\n",
              "      <td>0</td>\n",
              "    </tr>\n",
              "    <tr>\n",
              "      <th>3</th>\n",
              "      <td>1</td>\n",
              "      <td>1</td>\n",
              "      <td>1</td>\n",
              "      <td>1</td>\n",
              "      <td>1</td>\n",
              "      <td>1</td>\n",
              "      <td>0</td>\n",
              "    </tr>\n",
              "    <tr>\n",
              "      <th>4</th>\n",
              "      <td>-1</td>\n",
              "      <td>-1</td>\n",
              "      <td>1</td>\n",
              "      <td>1</td>\n",
              "      <td>1</td>\n",
              "      <td>-1</td>\n",
              "      <td>0</td>\n",
              "    </tr>\n",
              "  </tbody>\n",
              "</table>\n",
              "</div>\n",
              "      <button class=\"colab-df-convert\" onclick=\"convertToInteractive('df-d432dc48-fd5a-4d36-93e3-d2fb094c20d2')\"\n",
              "              title=\"Convert this dataframe to an interactive table.\"\n",
              "              style=\"display:none;\">\n",
              "        \n",
              "  <svg xmlns=\"http://www.w3.org/2000/svg\" height=\"24px\"viewBox=\"0 0 24 24\"\n",
              "       width=\"24px\">\n",
              "    <path d=\"M0 0h24v24H0V0z\" fill=\"none\"/>\n",
              "    <path d=\"M18.56 5.44l.94 2.06.94-2.06 2.06-.94-2.06-.94-.94-2.06-.94 2.06-2.06.94zm-11 1L8.5 8.5l.94-2.06 2.06-.94-2.06-.94L8.5 2.5l-.94 2.06-2.06.94zm10 10l.94 2.06.94-2.06 2.06-.94-2.06-.94-.94-2.06-.94 2.06-2.06.94z\"/><path d=\"M17.41 7.96l-1.37-1.37c-.4-.4-.92-.59-1.43-.59-.52 0-1.04.2-1.43.59L10.3 9.45l-7.72 7.72c-.78.78-.78 2.05 0 2.83L4 21.41c.39.39.9.59 1.41.59.51 0 1.02-.2 1.41-.59l7.78-7.78 2.81-2.81c.8-.78.8-2.07 0-2.86zM5.41 20L4 18.59l7.72-7.72 1.47 1.35L5.41 20z\"/>\n",
              "  </svg>\n",
              "      </button>\n",
              "      \n",
              "  <style>\n",
              "    .colab-df-container {\n",
              "      display:flex;\n",
              "      flex-wrap:wrap;\n",
              "      gap: 12px;\n",
              "    }\n",
              "\n",
              "    .colab-df-convert {\n",
              "      background-color: #E8F0FE;\n",
              "      border: none;\n",
              "      border-radius: 50%;\n",
              "      cursor: pointer;\n",
              "      display: none;\n",
              "      fill: #1967D2;\n",
              "      height: 32px;\n",
              "      padding: 0 0 0 0;\n",
              "      width: 32px;\n",
              "    }\n",
              "\n",
              "    .colab-df-convert:hover {\n",
              "      background-color: #E2EBFA;\n",
              "      box-shadow: 0px 1px 2px rgba(60, 64, 67, 0.3), 0px 1px 3px 1px rgba(60, 64, 67, 0.15);\n",
              "      fill: #174EA6;\n",
              "    }\n",
              "\n",
              "    [theme=dark] .colab-df-convert {\n",
              "      background-color: #3B4455;\n",
              "      fill: #D2E3FC;\n",
              "    }\n",
              "\n",
              "    [theme=dark] .colab-df-convert:hover {\n",
              "      background-color: #434B5C;\n",
              "      box-shadow: 0px 1px 3px 1px rgba(0, 0, 0, 0.15);\n",
              "      filter: drop-shadow(0px 1px 2px rgba(0, 0, 0, 0.3));\n",
              "      fill: #FFFFFF;\n",
              "    }\n",
              "  </style>\n",
              "\n",
              "      <script>\n",
              "        const buttonEl =\n",
              "          document.querySelector('#df-d432dc48-fd5a-4d36-93e3-d2fb094c20d2 button.colab-df-convert');\n",
              "        buttonEl.style.display =\n",
              "          google.colab.kernel.accessAllowed ? 'block' : 'none';\n",
              "\n",
              "        async function convertToInteractive(key) {\n",
              "          const element = document.querySelector('#df-d432dc48-fd5a-4d36-93e3-d2fb094c20d2');\n",
              "          const dataTable =\n",
              "            await google.colab.kernel.invokeFunction('convertToInteractive',\n",
              "                                                     [key], {});\n",
              "          if (!dataTable) return;\n",
              "\n",
              "          const docLinkHtml = 'Like what you see? Visit the ' +\n",
              "            '<a target=\"_blank\" href=https://colab.research.google.com/notebooks/data_table.ipynb>data table notebook</a>'\n",
              "            + ' to learn more about interactive tables.';\n",
              "          element.innerHTML = '';\n",
              "          dataTable['output_type'] = 'display_data';\n",
              "          await google.colab.output.renderOutput(dataTable, element);\n",
              "          const docLink = document.createElement('div');\n",
              "          docLink.innerHTML = docLinkHtml;\n",
              "          element.appendChild(docLink);\n",
              "        }\n",
              "      </script>\n",
              "    </div>\n",
              "  </div>\n",
              "  "
            ]
          },
          "metadata": {},
          "execution_count": 254
        }
      ]
    },
    {
      "cell_type": "code",
      "source": [
        "logistic = lambda z: 1./ (1 + np.exp(-z))\n",
        "class LogisticRegression:\n",
        "  \n",
        "  def editData(self):\n",
        "    self.X= np.c_[np.ones((self.X).shape[0]), (self.X)] \n",
        "    return\n",
        "\n",
        "  def fitGD(self, X, Y, optimizer):\n",
        "      self.X= X\n",
        "      self.Y= np.squeeze(Y)\n",
        "      self.editData()\n",
        "      def gradient(x, y, w):\n",
        "          N,D = x.shape\n",
        "          yh = logistic(x @ w)   # predictions  size N\n",
        "          grad = np.dot(yh-y, x)/N\n",
        "          return grad, self.cost_fn(x,y,w)\n",
        "      w0 = np.zeros(self.X.shape[1])                            # initialize the weights\n",
        "      #print(self.X.shape, w0.shape) \n",
        "      self.w = optimizer.run(gradient, self.X, self.Y, w0)      # run the optimizer to get the optimal weights\n",
        "      return self.w\n",
        "\n",
        "  def fitSGD(self, X, Y, optimizer):\n",
        "    self.X= X\n",
        "    self.Y= np.squeeze(Y)\n",
        "    self.editData()\n",
        "    def gradient(x, y, w, instance):\n",
        "        grad = x[instance, :]*(x[instance, :]*w-y[instance])\n",
        "        return grad, self.cost_fn(x,y,w)\n",
        "    w0 = np.zeros(self.X.shape[1])                            # initialize the weights\n",
        "    self.w = optimizer.run(gradient, self.X, self.Y, w0)      # run the optimizer to get the optimal weights\n",
        "    return self.w\n",
        "\n",
        "  def cost_fn(self, x, y, w):\n",
        "    N, D = x.shape                                                       \n",
        "    z = np.dot(x, w)\n",
        "    J = np.mean(y * np.log1p(np.exp(-z)) + (1-y) * np.log1p(np.exp(z))) #log1p calculates log(1+x) to remove floating point inaccuracies \n",
        "    return J\n",
        "\n",
        "  def predict(self, Xt):\n",
        "    Xt= np.c_[np.ones((Xt).shape[0]), (Xt)] \n",
        "    return logistic(Xt @ self.w)\n",
        " "
      ],
      "metadata": {
        "id": "IYxP4QQ_Eq7j"
      },
      "execution_count": null,
      "outputs": []
    },
    {
      "cell_type": "code",
      "source": [
        "train=data2.sample(frac=0.8)\n",
        "test=data2.drop(train.index)\n",
        "\n",
        "X_train= train.iloc[:, :6].to_numpy(copy=True) \n",
        "Y_train= train.iloc[:, 6:].to_numpy(copy=True)\n",
        "\n",
        "X_test= test.iloc[:, :6].to_numpy(copy=True) \n",
        "Y_test= test.iloc[:, 6:].to_numpy(copy=True)"
      ],
      "metadata": {
        "id": "RbgGWbW5BiKr"
      },
      "execution_count": null,
      "outputs": []
    },
    {
      "cell_type": "code",
      "source": [
        "optimizer = GradientDescent(learning_rate=.001, max_iters=5000, record_history=False)#GradientDescent(learning_rate=.0003, max_iters=5000, record_history=False)\n",
        "model= LogisticRegression()\n",
        "W=model.fitGD(X_train, Y_train, optimizer)\n",
        "Ypredict=model.predict(X_test)\n",
        "print(model.cost_fn(np.c_[np.ones((X_test).shape[0]), (X_test)] , np.squeeze(Y_test), W))"
      ],
      "metadata": {
        "id": "phvNNTWRJOlf",
        "outputId": "6fb6bc4c-bf22-4ab3-e9d6-58706cf43b9d",
        "colab": {
          "base_uri": "https://localhost:8080/"
        }
      },
      "execution_count": null,
      "outputs": [
        {
          "output_type": "stream",
          "name": "stdout",
          "text": [
            "0.1959246001814455\n"
          ]
        }
      ]
    },
    {
      "cell_type": "code",
      "source": [
        "optimizer = StochasticGradientDescent(learning_rate=0.7, max_iters=5000, record_history=False)#GradientDescent(learning_rate=.0003, max_iters=5000, record_history=False)\n",
        "model= LogisticRegression()\n",
        "W=model.fitSGD(X_train, Y_train, optimizer)\n",
        "Ypredict=model.predict(X_test)\n",
        "print(model.cost_fn(np.c_[np.ones((X_test).shape[0]), (X_test)] , np.squeeze(Y_test), W))"
      ],
      "metadata": {
        "id": "8rmHbmcV6l9N",
        "outputId": "07faab4a-3e32-429c-b990-d2fbbf489ab5",
        "colab": {
          "base_uri": "https://localhost:8080/"
        }
      },
      "execution_count": null,
      "outputs": [
        {
          "output_type": "stream",
          "name": "stdout",
          "text": [
            "0.35509967201030046\n"
          ]
        }
      ]
    },
    {
      "cell_type": "code",
      "source": [
        "cmat = confusion_matrix(np.squeeze(Y_test), (Ypredict>0.5).astype(int))\n",
        "print(cmat)\n",
        "print(f'accuracy: {np.sum(np.diag(cmat))/np.sum(cmat)}')"
      ],
      "metadata": {
        "colab": {
          "base_uri": "https://localhost:8080/"
        },
        "id": "7TwTS8hB5HgI",
        "outputId": "340a99f6-8c7e-4f7c-d14e-7c297e9f0907"
      },
      "execution_count": null,
      "outputs": [
        {
          "output_type": "stream",
          "name": "stdout",
          "text": [
            "[[23.  2.]\n",
            " [ 0. 25.]]\n",
            "accuracy: 0.96\n"
          ]
        }
      ]
    }
  ]
}