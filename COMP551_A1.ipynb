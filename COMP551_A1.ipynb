{
  "nbformat": 4,
  "nbformat_minor": 0,
  "metadata": {
    "colab": {
      "provenance": [],
      "authorship_tag": "ABX9TyPXQN+eQbK3QXLdnCSO6b0O",
      "include_colab_link": true
    },
    "kernelspec": {
      "name": "python3",
      "display_name": "Python 3"
    },
    "language_info": {
      "name": "python"
    }
  },
  "cells": [
    {
      "cell_type": "markdown",
      "metadata": {
        "id": "view-in-github",
        "colab_type": "text"
      },
      "source": [
        "<a href=\"https://colab.research.google.com/github/VenissaCarolQuadros/COMP551/blob/dev1/COMP551_A1.ipynb\" target=\"_parent\"><img src=\"https://colab.research.google.com/assets/colab-badge.svg\" alt=\"Open In Colab\"/></a>"
      ]
    },
    {
      "cell_type": "code",
      "source": [
        "import requests\n",
        "import pandas as pd\n",
        "import numpy as np"
      ],
      "metadata": {
        "id": "JQoT2qUqK0k0"
      },
      "execution_count": 1,
      "outputs": []
    },
    {
      "cell_type": "code",
      "source": [
        "def read_data(url, dest):\n",
        "  response = requests.get(url)\n",
        "  with open(dest, 'wb') as file:\n",
        "      file.write(response.content)\n",
        "  return"
      ],
      "metadata": {
        "id": "0s9G1-4lRQpN"
      },
      "execution_count": 2,
      "outputs": []
    },
    {
      "cell_type": "code",
      "source": [
        "dest1= 'LinearRegression.xlsx'\n",
        "read_data(\"https://raw.githubusercontent.com/VenissaCarolQuadros/COMP551/main/data/ENB2012_data.xlsx\", dest1)\n",
        "df1= pd.read_excel(dest1)\n",
        "\n",
        "dest2= 'LogisticRegression.csv'\n",
        "read_data('https://raw.githubusercontent.com/VenissaCarolQuadros/COMP551/main/data/Qualitative_Bankruptcy/Qualitative_Bankruptcy.data.txt', dest2)\n",
        "df2= pd.read_csv(dest2, header=None)\n"
      ],
      "metadata": {
        "id": "tZ2dKvEwRkDm"
      },
      "execution_count": 3,
      "outputs": []
    },
    {
      "cell_type": "code",
      "source": [
        "print(df1.shape, df2.shape) ##Verifying dataset size\n",
        "print( df1[df1.eq('?').any(1)],  df2[ df2.eq('?').any(1)]) #Checking for nulls\n",
        "##No nulls found. Dataset size seems right"
      ],
      "metadata": {
        "colab": {
          "base_uri": "https://localhost:8080/"
        },
        "id": "rOYCyYATSIGM",
        "outputId": "6c6e4967-fd02-481f-9075-669ac33476e3"
      },
      "execution_count": 4,
      "outputs": [
        {
          "output_type": "stream",
          "name": "stdout",
          "text": [
            "(768, 10) (250, 7)\n",
            "Empty DataFrame\n",
            "Columns: [X1, X2, X3, X4, X5, X6, X7, X8, Y1, Y2]\n",
            "Index: [] Empty DataFrame\n",
            "Columns: [0, 1, 2, 3, 4, 5, 6]\n",
            "Index: []\n"
          ]
        }
      ]
    },
    {
      "cell_type": "markdown",
      "source": [
        "##Linear Regression"
      ],
      "metadata": {
        "id": "DDUg0W2RYIKU"
      }
    },
    {
      "cell_type": "code",
      "source": [
        "class GradientDescent:\n",
        "    \n",
        "    def __init__(self, learning_rate=.0001, max_iters=1e4, epsilon=1e-8, record_history=False):\n",
        "        self.learning_rate = learning_rate\n",
        "        self.max_iters = max_iters\n",
        "        self.record_history = record_history\n",
        "        self.epsilon = epsilon\n",
        "        if record_history:\n",
        "            self.w_history = []                 #to store the weight history for visualization\n",
        "        self.cost_history=[]\n",
        "            \n",
        "    def run(self, gradient_fn, x, y, w):\n",
        "        grad = np.inf\n",
        "        t = 1\n",
        "        \n",
        "        while np.linalg.norm(grad) > self.epsilon and t < self.max_iters:\n",
        "            #print(np.linalg.norm(grad))\n",
        "            grad, cost = gradient_fn(x, y, w)               # compute the gradient with present weight\n",
        "            #print(cost)\n",
        "            self.cost_history.append(cost)\n",
        "            w = w - self.learning_rate * grad         # weight update step\n",
        "            if self.record_history:\n",
        "                self.w_history.append(w)\n",
        "            t += 1\n",
        "        return w\n",
        "\n",
        "class LinearRegression:\n",
        "  def __init__(self):\n",
        "    self.w=[]\n",
        "  \n",
        "  def editData(self):\n",
        "    self.X= np.c_[np.ones((self.X).shape[0]), (self.X)] \n",
        "    return\n",
        "  \n",
        "  def fitClosedForm(self, X, Y):\n",
        "    self.X=X\n",
        "    self.Y=Y\n",
        "    self.editData()\n",
        "    self.w= np.linalg.inv((self.X).T @ (self.X))@ (self.X).T@ (self.Y)\n",
        "    return\n",
        "\n",
        "  \"\"\"\n",
        "  def fitGD(self, X, Y, iterations=1000, alpha=0.01):\n",
        "    self.fitClosedForm(X, Y) #Is this a good way tp find an initial w?\n",
        "    gradJ= (1/len(self.Y))*np.sum(((self.X @ self.w)- Y)*self.X)\n",
        "    self.w= \n",
        "\n",
        "    return\n",
        "\n",
        "  \"\"\"\n",
        "\n",
        "  def fitGD(self, X, Y, optimizer1, optimizer2):\n",
        "        self.fitClosedForm(X, Y)\n",
        "        def gradient(x, y, w):                          # define the gradient function\n",
        "            yh =  x @ w \n",
        "            N, D = x.shape\n",
        "            grad = .5*np.dot(yh - y, x)/N\n",
        "            return grad, .5*np.mean((yh - y)**2)\n",
        "        w0 = np.zeros(self.X.shape[1])                            # initialize the weights \n",
        "        self.w[:,0] = optimizer1.run(gradient, self.X, self.Y[:,0], w0)      # run the optimizer to get the optimal weights\n",
        "        self.w[:,1] = optimizer2.run(gradient, self.X, self.Y[:,1], w0) \n",
        "        return\n",
        "\n",
        "  def predict(self, Xt):\n",
        "    Xt= np.c_[np.ones((Xt).shape[0]), (Xt)] \n",
        "    return Xt @ self.w\n",
        "  \n",
        "  "
      ],
      "metadata": {
        "id": "tpRIjs7tyTre"
      },
      "execution_count": 144,
      "outputs": []
    },
    {
      "cell_type": "code",
      "source": [
        "#Train test split\n",
        "train=df1.sample(frac=0.8,random_state=200)\n",
        "test=df1.drop(train.index)\n",
        "\n",
        "model1= LinearRegression()\n",
        "\n",
        "X_train= train.iloc[:, :8].to_numpy(copy=True) \n",
        "Y_train= train.iloc[:, 8:].to_numpy(copy=True)\n",
        "\n",
        "model1.fitClosedForm(X_train, Y_train)\n",
        "\n",
        "X_test= test.iloc[:, :8].to_numpy(copy=True)\n",
        "Y_test= test.iloc[:, 8:].to_numpy(copy=True)\n",
        "\n",
        "Ypredict=model1.predict(X_test)\n",
        "#print(np.c_[Y_test, Ypredict])\n",
        "loss=0.5*np.mean((Y_test-Ypredict)**2, axis=0)\n",
        "print(loss)"
      ],
      "metadata": {
        "id": "EYH4qAcryVXx",
        "outputId": "6a35c6fe-fc0d-4847-8db0-d5ed8ceaff0d",
        "colab": {
          "base_uri": "https://localhost:8080/"
        }
      },
      "execution_count": 184,
      "outputs": [
        {
          "output_type": "stream",
          "name": "stdout",
          "text": [
            "[ 995.55042857 1227.30304993]\n"
          ]
        }
      ]
    },
    {
      "cell_type": "code",
      "source": [
        "optimizer1 = GradientDescent(learning_rate=.000006, max_iters=1e4, record_history=False)\n",
        "optimizer2 = GradientDescent(learning_rate=.000006, max_iters=1e4, record_history=False)\n",
        "model= LinearRegression()\n",
        "model.fitGD(X_train, Y_train, optimizer1, optimizer2)"
      ],
      "metadata": {
        "id": "_uoi9IfxEKeM"
      },
      "execution_count": 180,
      "outputs": []
    },
    {
      "cell_type": "code",
      "source": [
        "Ypredict=model.predict(X_test)\n",
        "#print(np.c_[Y_test, Ypredict])\n",
        "loss=0.5*np.mean((Y_test-Ypredict)**2, axis=0)\n",
        "print(loss)"
      ],
      "metadata": {
        "id": "d-wBmN3x1eO3",
        "outputId": "78a5256b-f791-415f-da51-0da1af4ff38c",
        "colab": {
          "base_uri": "https://localhost:8080/"
        }
      },
      "execution_count": 185,
      "outputs": [
        {
          "output_type": "stream",
          "name": "stdout",
          "text": [
            "[15.58053171 16.94957928]\n"
          ]
        }
      ]
    },
    {
      "cell_type": "code",
      "source": [
        "import matplotlib.pyplot as plt\n",
        "plt.plot(np.arange(len(optimizer1.cost_history)), optimizer1.cost_history, '.')\n",
        "plt.show()\n",
        "plt.plot(np.arange(len(optimizer2.cost_history)), optimizer2.cost_history, '.')\n",
        "plt.show()"
      ],
      "metadata": {
        "id": "eg2SpJXK2mRS",
        "outputId": "1a4c300a-edc7-439f-cc91-b1655bf559f4",
        "colab": {
          "base_uri": "https://localhost:8080/",
          "height": 513
        }
      },
      "execution_count": 186,
      "outputs": [
        {
          "output_type": "display_data",
          "data": {
            "text/plain": [
              "<Figure size 432x288 with 1 Axes>"
            ],
            "image/png": "[encoded data removed]"
          },
          "metadata": {
            "needs_background": "light"
          }
        },
        {
          "output_type": "display_data",
          "data": {
            "text/plain": [
              "<Figure size 432x288 with 1 Axes>"
            ],
            "image/png": "[encoded data removed]"
          },
          "metadata": {
            "needs_background": "light"
          }
        }
      ]
    }
  ]
}